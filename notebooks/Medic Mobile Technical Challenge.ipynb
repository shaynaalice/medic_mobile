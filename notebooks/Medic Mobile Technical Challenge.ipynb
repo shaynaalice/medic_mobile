{
 "cells": [
  {
   "cell_type": "markdown",
   "metadata": {},
   "source": [
    "# Load Data"
   ]
  },
  {
   "cell_type": "code",
   "execution_count": 882,
   "metadata": {},
   "outputs": [],
   "source": [
    "import pandas as pd\n",
    "from datetime import datetime\n",
    "from datetime import date\n",
    "\n",
    "HOME_PATH = '/Users/shaynaanderson-hill/medic_mobile/20190402-Data Scientist Interview Exercises Datasets/'\n",
    "\n",
    "#Load Datasets\n",
    "assessment_follow_up_df = pd.read_csv(\n",
    "    HOME_PATH + 'assessment_follow_up.csv',\n",
    "    header=0, \n",
    "    dtype={'width': int, 'column_name': str, 'variable_type': str}\n",
    ")\n",
    "\n",
    "assessments_df = pd.read_csv(\n",
    "    HOME_PATH + 'assessments.csv',\n",
    "    header=0, \n",
    "    dtype={'width': int, 'column_name': str, 'variable_type': str}\n",
    ")\n",
    "\n",
    "delivery_df = pd.read_csv(\n",
    "    HOME_PATH + 'delivery.csv',\n",
    "    header=0, \n",
    "    dtype={'width': int, 'column_name': str, 'variable_type': str}\n",
    ")\n",
    "\n",
    "family_survey_df = pd.read_csv(\n",
    "    HOME_PATH + 'family_survey.csv',\n",
    "    header=0, \n",
    "    dtype={'width': int, 'column_name': str, 'variable_type': str}\n",
    ")\n",
    "\n",
    "person_df = pd.read_csv(\n",
    "    HOME_PATH + 'person.csv',\n",
    "    header=0, \n",
    "    dtype={'width': int, 'column_name': str, 'variable_type': str}\n",
    ")\n",
    "\n",
    "pregnancy_df = pd.read_csv(\n",
    "    HOME_PATH + 'pregnancy.csv',\n",
    "    header=0, \n",
    "    dtype={'width': int, 'column_name': str, 'variable_type': str}\n",
    ")\n",
    "\n",
    "pregnancy_visit_df = pd.read_csv(\n",
    "    HOME_PATH + 'pregnancy_visit.csv',\n",
    "    header=0, \n",
    "    dtype={'width': int, 'column_name': str, 'variable_type': str}\n",
    ")\n"
   ]
  },
  {
   "cell_type": "markdown",
   "metadata": {},
   "source": [
    "# Rename Columns "
   ]
  },
  {
   "cell_type": "code",
   "execution_count": 883,
   "metadata": {},
   "outputs": [],
   "source": [
    "#Add table prefixes to avoid confusion\n",
    "#person_df = person_df.add_prefix('person_')\n",
    "#family_survey_df = family_survey_df.add_prefix('family_survey_')\n",
    "assessments_df = assessments_df.add_prefix('assessment_')\n",
    "assessment_follow_up_df = assessment_follow_up_df.add_prefix('assessment_follow_up_')\n",
    "pregnancy_df = pregnancy_df.add_prefix('pregnancy_')\n",
    "pregnancy_visit_df = pregnancy_visit_df.add_prefix('pregnancy_visit_')\n",
    "delivery_df = delivery_df.add_prefix('delivery_')\n"
   ]
  },
  {
   "cell_type": "code",
   "execution_count": 884,
   "metadata": {},
   "outputs": [],
   "source": [
    "%%capture\n",
    "#Remove redundant prefixes\n",
    "\n",
    "assessments_df.rename(index=str, columns={'assessment_assessment_id': 'assessment_id', 'assessment_assessment_date_time_submitted': 'assessment_date_time_submitted'}, inplace=True) \n",
    "assessment_follow_up_df.rename(index=str, columns={'assessment_follow_up_assessment_follow_up_id': 'assessment_follow_up_id', 'assessment_follow_up_assessment_follow_up_date_time_submitted': 'assessment_follow_up_date_time_submitted'}, inplace=True) \n",
    "pregnancy_df.rename(index=str, columns={'pregnancy_pregnancy_form_id': 'pregnancy_form_id'}, inplace=True)\n",
    "pregnancy_visit_df.rename(index=str, columns={'pregnancy_visit_pregnancy_visit_form_id': 'pregnancy_visit_form_id'}, inplace=True) \n",
    "delivery_df.rename(index=str, columns={'delivery_delivery_id': 'delivery_id', 'delivery_delivery_date_time_submitted': 'delivery_date_time_submitted', 'delivery_facility_delivery': 'facility_delivery', 'delivery_danger_signs_at_delivery': 'danger_signs_at_delivery'}, inplace=True) \n",
    "\n"
   ]
  },
  {
   "cell_type": "markdown",
   "metadata": {},
   "source": [
    "# Converting Data Types"
   ]
  },
  {
   "cell_type": "code",
   "execution_count": 885,
   "metadata": {},
   "outputs": [],
   "source": [
    "#Date of birth\n",
    "\n",
    "#Fix broken dates\n",
    "#Assumption: date_of_birth = '1007-10-08' is supposed to be '2007-10-08'\n",
    "person_df.loc[person_df.date_of_birth == '1007-10-08', 'date_of_birth'] = '2007-10-08'\n",
    "\n",
    "#Assumption: date_of_birth = '1563-11-04' is supposed to be '1963-11-04'\n",
    "person_df.loc[person_df.date_of_birth == '1563-11-04', 'date_of_birth'] = '1963-11-04'\n",
    "\n",
    "#Assumption: date_of_birth = '1263-12-05 is supposed to be '1963-12-05'\n",
    "person_df.loc[person_df.date_of_birth == '1263-12-05', 'date_of_birth'] = '1963-12-05'\n",
    "\n",
    "#convert date strings to date objects\n",
    "person_df['date_of_birth'] = pd.to_datetime(person_df['date_of_birth'])\n"
   ]
  },
  {
   "cell_type": "code",
   "execution_count": 886,
   "metadata": {},
   "outputs": [],
   "source": [
    "#Last menstrual period\n",
    "pregnancy_df['pregnancy_last_menstrual_period_date'] = pd.to_datetime(pregnancy_df['pregnancy_last_menstrual_period_date'])\n",
    "\n"
   ]
  },
  {
   "cell_type": "code",
   "execution_count": 887,
   "metadata": {},
   "outputs": [],
   "source": [
    "#Expected due date\n",
    "pregnancy_df['pregnancy_expected_due_date'] = pd.to_datetime(pregnancy_df['pregnancy_expected_due_date'])          \n"
   ]
  },
  {
   "cell_type": "code",
   "execution_count": 888,
   "metadata": {},
   "outputs": [],
   "source": [
    "#Pregnancy registration submission\n",
    "#first remove timezone\n",
    "def remove_tz(date_str):\n",
    "    return str(date_str[:(date_str.find(\"T\"))])\n",
    "\n",
    "pregnancy_df['pregnancy_date_time_submitted'] = pregnancy_df['pregnancy_date_time_submitted'].apply(remove_tz)\n",
    "\n",
    "pregnancy_df['pregnancy_date_time_submitted'] = pd.to_datetime(pregnancy_df['pregnancy_date_time_submitted'])\n"
   ]
  },
  {
   "cell_type": "code",
   "execution_count": 916,
   "metadata": {},
   "outputs": [],
   "source": [
    "#Pregnancy visit submission\n",
    "pregnancy_visit_df['pregnancy_visit_date_time_submitted'] = pregnancy_visit_df['pregnancy_visit_date_time_submitted'].apply(remove_tz)\n",
    "\n",
    "pregnancy_visit_df['pregnancy_visit_date_time_submitted'] = pd.to_datetime(pregnancy_visit_df['pregnancy_visit_date_time_submitted'])\n"
   ]
  },
  {
   "cell_type": "code",
   "execution_count": 890,
   "metadata": {},
   "outputs": [],
   "source": [
    "#delivery submission\n",
    "delivery_df['delivery_date_time_submitted'] = pd.to_datetime(delivery_df['delivery_date_time_submitted'])        \n",
    "\n",
    " "
   ]
  },
  {
   "cell_type": "markdown",
   "metadata": {},
   "source": [
    "# Parse Data"
   ]
  },
  {
   "cell_type": "code",
   "execution_count": 891,
   "metadata": {},
   "outputs": [],
   "source": [
    "#placeholder new data frame with split value columns \n",
    "new = pregnancy_df[\"pregnancy_risk_factors\"].str.split(\" \", n=6, expand = True) \n",
    "\n",
    "new[\"r1\"] = \"\"\n",
    "new[\"r2\"] = \"\"\n",
    "new[\"r3\"] = \"\"\n",
    "new[\"r4\"] = \"\"\n",
    "new[\"r5\"] = \"\"\n",
    "new[\"r6\"] = \"\"\n",
    "\n",
    "for index, row in new.iterrows():\n",
    "    if row[0] == 'r1' or row[1] == 'r1' or row[2] == 'r1' or row[3] == 'r1' or row[4] == 'r1' or row[5]=='r1':\n",
    "        row['r1'] = True\n",
    "    else: row['r1'] = False\n",
    "    if row[0] == 'r2' or row[1] == 'r2' or row[2] == 'r2' or row[3] == 'r2' or row[4] == 'r2' or row[5]=='r2':\n",
    "        row['r2'] = True\n",
    "    else: row['r2'] = False\n",
    "    if row[0] == 'r3' or row[1] == 'r3' or row[2] == 'r3' or row[3] == 'r3' or row[4] == 'r3' or row[5]=='r3':\n",
    "        row['r3'] = True\n",
    "    else: row['r3'] = False\n",
    "    if row[0] == 'r4' or row[1] == 'r4' or row[2] == 'r4' or row[3] == 'r4' or row[4] == 'r4' or row[5]=='r4':\n",
    "        row['r4'] = True\n",
    "    else: row['r4'] = False\n",
    "    if row[0] == 'r5' or row[1] == 'r5' or row[2] == 'r5' or row[3] == 'r5' or row[4] == 'r5' or row[5]=='r5':\n",
    "        row['r5'] = True\n",
    "    else: row['r5'] = False\n",
    "    if row[0] == 'r6' or row[1] == 'r6' or row[2] == 'r6' or row[3] == 'r6' or row[4] == 'r6' or row[5]=='r6':\n",
    "        row['r6'] = True\n",
    "    else: row['r6'] = False\n",
    "\n",
    "# making seperate risk factor columns from new data frame \n",
    "pregnancy_df[\"risk_factor_1\"]= new['r1'] \n",
    "pregnancy_df[\"risk_factor_2\"]= new['r2'] \n",
    "pregnancy_df[\"risk_factor_3\"]= new['r3'] \n",
    "pregnancy_df[\"risk_factor_4\"]= new['r4'] \n",
    "pregnancy_df[\"risk_factor_5\"]= new['r5']  \n",
    "pregnancy_df[\"risk_factor_6\"]= new['r6'] \n",
    "  \n",
    "# Dropping old Name columns \n",
    "pregnancy_df.drop(columns =[\"pregnancy_risk_factors\"], inplace = True) \n",
    "  \n",
    "# df display \n",
    "#pregnancy_df"
   ]
  },
  {
   "cell_type": "code",
   "execution_count": 892,
   "metadata": {},
   "outputs": [],
   "source": [
    "#placeholder new data frame with split value columns \n",
    "new = pregnancy_df[\"pregnancy_danger_signs\"].str.split(\" \", n=9, expand = True) \n",
    "\n",
    "new[\"d1\"] = \"\"\n",
    "new[\"d2\"] = \"\"\n",
    "new[\"d3\"] = \"\"\n",
    "new[\"d4\"] = \"\"\n",
    "new[\"d5\"] = \"\"\n",
    "new[\"d6\"] = \"\"\n",
    "new[\"d7\"] = \"\"\n",
    "new[\"d8\"] = \"\"\n",
    "new[\"d9\"] = \"\"\n",
    "\n",
    "for index, row in new.iterrows():\n",
    "    if row[0] == 'd1' or row[1] == 'd1' or row[2] == 'd1' or row[3] == 'd1' or row[4] == 'd1' or row[5]=='d1':\n",
    "        row['d1'] = True\n",
    "    else: row['d1'] = False\n",
    "    if row[0] == 'd2' or row[1] == 'd2' or row[2] == 'd2' or row[3] == 'd2' or row[4] == 'd2' or row[5]=='d2':\n",
    "        row['d2'] = True\n",
    "    else: row['d2'] = False\n",
    "    if row[0] == 'd3' or row[1] == 'd3' or row[2] == 'd3' or row[3] == 'd3' or row[4] == 'd3' or row[5]=='d3':\n",
    "        row['d3'] = True\n",
    "    else: row['d3'] = False\n",
    "    if row[0] == 'd4' or row[1] == 'd4' or row[2] == 'd4' or row[3] == 'd4' or row[4] == 'd4' or row[5]=='d4':\n",
    "        row['d4'] = True\n",
    "    else: row['d4'] = False\n",
    "    if row[0] == 'd5' or row[1] == 'd5' or row[2] == 'd5' or row[3] == 'd5' or row[4] == 'd5' or row[5]=='d5':\n",
    "        row['d5'] = True\n",
    "    else: row['d5'] = False\n",
    "    if row[0] == 'd6' or row[1] == 'd6' or row[2] == 'd6' or row[3] == 'd6' or row[4] == 'd6' or row[5]=='d6':\n",
    "        row['d6'] = True\n",
    "    else: row['d6'] = False\n",
    "    if row[0] == 'd7' or row[1] == 'd7' or row[2] == 'd7' or row[3] == 'd7' or row[4] == 'd7' or row[5]=='d7':\n",
    "        row['d7'] = True\n",
    "    else: row['d7'] = False\n",
    "    if row[0] == 'd8' or row[1] == 'd8' or row[2] == 'd8' or row[3] == 'd8' or row[4] == 'd8' or row[5]=='d8':\n",
    "        row['d8'] = True\n",
    "    else: row['d8'] = False\n",
    "    if row[0] == 'd9' or row[1] == 'd9' or row[2] == 'd9' or row[3] == 'd9' or row[4] == 'd9' or row[5]=='d9':\n",
    "        row['d9'] = True\n",
    "    else: row['d9'] = False\n",
    "\n",
    "# making seperate danger signs from new data frame \n",
    "pregnancy_df[\"danger_signs_1\"]= new['d1'] \n",
    "pregnancy_df[\"danger_signs_2\"]= new['d2'] \n",
    "pregnancy_df[\"danger_signs_3\"]= new['d3'] \n",
    "pregnancy_df[\"danger_signs_4\"]= new['d4'] \n",
    "pregnancy_df[\"danger_signs_5\"]= new['d5']  \n",
    "pregnancy_df[\"danger_signs_6\"]= new['d6']  \n",
    "pregnancy_df[\"danger_signs_7\"]= new['d7']  \n",
    "pregnancy_df[\"danger_signs_8\"]= new['d8'] \n",
    "pregnancy_df[\"danger_signs_9\"]= new['d9'] \n",
    "\n",
    "# Dropping old Name columns \n",
    "pregnancy_df.drop(columns =[\"pregnancy_danger_signs\"], inplace = True) \n",
    "  \n",
    "# df display \n",
    "#pregnancy_df"
   ]
  },
  {
   "cell_type": "code",
   "execution_count": 920,
   "metadata": {},
   "outputs": [],
   "source": [
    "#placeholder new data frame with split value columns \n",
    "new = pregnancy_visit_df[\"pregnancy_visit_danger_signs\"].str.split(\" \", n=9, expand = True) \n",
    "\n",
    "new[\"d1\"] = \"\"\n",
    "new[\"d2\"] = \"\"\n",
    "new[\"d3\"] = \"\"\n",
    "new[\"d4\"] = \"\"\n",
    "new[\"d5\"] = \"\"\n",
    "new[\"d6\"] = \"\"\n",
    "new[\"d7\"] = \"\"\n",
    "new[\"d8\"] = \"\"\n",
    "new[\"d9\"] = \"\"\n",
    "\n",
    "for index, row in new.iterrows():\n",
    "    if row[0] == 'd1' or row[1] == 'd1' or row[2] == 'd1' or row[3] == 'd1' or row[4] == 'd1' or row[5]=='d1':\n",
    "        row['d1'] = True\n",
    "    else: row['d1'] = False\n",
    "    if row[0] == 'd2' or row[1] == 'd2' or row[2] == 'd2' or row[3] == 'd2' or row[4] == 'd2' or row[5]=='d2':\n",
    "        row['d2'] = True\n",
    "    else: row['d2'] = False\n",
    "    if row[0] == 'd3' or row[1] == 'd3' or row[2] == 'd3' or row[3] == 'd3' or row[4] == 'd3' or row[5]=='d3':\n",
    "        row['d3'] = True\n",
    "    else: row['d3'] = False\n",
    "    if row[0] == 'd4' or row[1] == 'd4' or row[2] == 'd4' or row[3] == 'd4' or row[4] == 'd4' or row[5]=='d4':\n",
    "        row['d4'] = True\n",
    "    else: row['d4'] = False\n",
    "    if row[0] == 'd5' or row[1] == 'd5' or row[2] == 'd5' or row[3] == 'd5' or row[4] == 'd5' or row[5]=='d5':\n",
    "        row['d5'] = True\n",
    "    else: row['d5'] = False\n",
    "    if row[0] == 'd6' or row[1] == 'd6' or row[2] == 'd6' or row[3] == 'd6' or row[4] == 'd6' or row[5]=='d6':\n",
    "        row['d6'] = True\n",
    "    else: row['d6'] = False\n",
    "    if row[0] == 'd7' or row[1] == 'd7' or row[2] == 'd7' or row[3] == 'd7' or row[4] == 'd7' or row[5]=='d7':\n",
    "        row['d7'] = True\n",
    "    else: row['d7'] = False\n",
    "    if row[0] == 'd8' or row[1] == 'd8' or row[2] == 'd8' or row[3] == 'd8' or row[4] == 'd8' or row[5]=='d8':\n",
    "        row['d8'] = True\n",
    "    else: row['d8'] = False\n",
    "    if row[0] == 'd9' or row[1] == 'd9' or row[2] == 'd9' or row[3] == 'd9' or row[4] == 'd9' or row[5]=='d9':\n",
    "        row['d9'] = True\n",
    "    else: row['d9'] = False\n",
    "\n",
    "# making seperate danger signs from new data frame \n",
    "pregnancy_visit_df[\"danger_signs_1\"]= new['d1'] \n",
    "pregnancy_visit_df[\"danger_signs_2\"]= new['d2'] \n",
    "pregnancy_visit_df[\"danger_signs_3\"]= new['d3'] \n",
    "pregnancy_visit_df[\"danger_signs_4\"]= new['d4'] \n",
    "pregnancy_visit_df[\"danger_signs_5\"]= new['d5']  \n",
    "pregnancy_visit_df[\"danger_signs_6\"]= new['d6']  \n",
    "pregnancy_visit_df[\"danger_signs_7\"]= new['d7']  \n",
    "pregnancy_visit_df[\"danger_signs_8\"]= new['d8'] \n",
    "pregnancy_visit_df[\"danger_signs_9\"]= new['d9'] \n",
    "\n",
    "# Dropping old Name columns \n",
    "pregnancy_visit_df.drop(columns =[\"pregnancy_visit_danger_signs\"], inplace = True) \n",
    "  \n",
    "# df display \n",
    "#pregnancy_visit_df"
   ]
  },
  {
   "cell_type": "markdown",
   "metadata": {},
   "source": [
    "# Missing Data"
   ]
  },
  {
   "cell_type": "code",
   "execution_count": 893,
   "metadata": {},
   "outputs": [
    {
     "data": {
      "text/html": [
       "<div>\n",
       "<style scoped>\n",
       "    .dataframe tbody tr th:only-of-type {\n",
       "        vertical-align: middle;\n",
       "    }\n",
       "\n",
       "    .dataframe tbody tr th {\n",
       "        vertical-align: top;\n",
       "    }\n",
       "\n",
       "    .dataframe thead th {\n",
       "        text-align: right;\n",
       "    }\n",
       "</style>\n",
       "<table border=\"1\" class=\"dataframe\">\n",
       "  <thead>\n",
       "    <tr style=\"text-align: right;\">\n",
       "      <th></th>\n",
       "      <th>person_id</th>\n",
       "      <th>sex</th>\n",
       "      <th>date_of_birth</th>\n",
       "      <th>hh_id</th>\n",
       "    </tr>\n",
       "  </thead>\n",
       "  <tbody>\n",
       "    <tr>\n",
       "      <th>count</th>\n",
       "      <td>909991</td>\n",
       "      <td>905551</td>\n",
       "      <td>908941</td>\n",
       "      <td>909979</td>\n",
       "    </tr>\n",
       "    <tr>\n",
       "      <th>unique</th>\n",
       "      <td>909991</td>\n",
       "      <td>5</td>\n",
       "      <td>31345</td>\n",
       "      <td>227445</td>\n",
       "    </tr>\n",
       "    <tr>\n",
       "      <th>top</th>\n",
       "      <td>a60b88a232ae2fe440659af9c12ef775</td>\n",
       "      <td>female</td>\n",
       "      <td>2014-08-28 00:00:00</td>\n",
       "      <td>d4906d1f2ebe160656766b5f1ecdca98</td>\n",
       "    </tr>\n",
       "    <tr>\n",
       "      <th>freq</th>\n",
       "      <td>1</td>\n",
       "      <td>495600</td>\n",
       "      <td>260</td>\n",
       "      <td>75</td>\n",
       "    </tr>\n",
       "    <tr>\n",
       "      <th>first</th>\n",
       "      <td>NaN</td>\n",
       "      <td>NaN</td>\n",
       "      <td>1684-12-08 00:00:00</td>\n",
       "      <td>NaN</td>\n",
       "    </tr>\n",
       "    <tr>\n",
       "      <th>last</th>\n",
       "      <td>NaN</td>\n",
       "      <td>NaN</td>\n",
       "      <td>2066-02-06 00:00:00</td>\n",
       "      <td>NaN</td>\n",
       "    </tr>\n",
       "  </tbody>\n",
       "</table>\n",
       "</div>"
      ],
      "text/plain": [
       "                               person_id     sex        date_of_birth  \\\n",
       "count                             909991  905551               908941   \n",
       "unique                            909991       5                31345   \n",
       "top     a60b88a232ae2fe440659af9c12ef775  female  2014-08-28 00:00:00   \n",
       "freq                                   1  495600                  260   \n",
       "first                                NaN     NaN  1684-12-08 00:00:00   \n",
       "last                                 NaN     NaN  2066-02-06 00:00:00   \n",
       "\n",
       "                                   hh_id  \n",
       "count                             909979  \n",
       "unique                            227445  \n",
       "top     d4906d1f2ebe160656766b5f1ecdca98  \n",
       "freq                                  75  \n",
       "first                                NaN  \n",
       "last                                 NaN  "
      ]
     },
     "execution_count": 893,
     "metadata": {},
     "output_type": "execute_result"
    }
   ],
   "source": [
    "#person_df\n",
    "person_df.describe(include = 'all')\n",
    "# 12 people have missing households\n",
    "# 4,440 people are missing sex data\n",
    "# 1,050 are missing their date of birth\n"
   ]
  },
  {
   "cell_type": "markdown",
   "metadata": {},
   "source": [
    "# Impute Missing Data"
   ]
  },
  {
   "cell_type": "code",
   "execution_count": 904,
   "metadata": {},
   "outputs": [],
   "source": [
    "#Impute average patient_age_in_years for missing data\n",
    "\n",
    "pregnancy_df['pregnancy_patient_age_in_years'].fillna((pregnancy_df['pregnancy_patient_age_in_years'].mean()), inplace=True)\n"
   ]
  },
  {
   "cell_type": "markdown",
   "metadata": {},
   "source": [
    "# Delivery Response Variables"
   ]
  },
  {
   "cell_type": "code",
   "execution_count": 907,
   "metadata": {},
   "outputs": [],
   "source": [
    "#Sample size rule of thumb (Peduzzi)\n",
    "#Let p be the smallest of the proportions of negative or positive cases in the population and \n",
    "#k the number of covariates (the number of independent variables), then the minimum number of cases to include is:\n",
    "#N = 10 k / p\n"
   ]
  },
  {
   "cell_type": "code",
   "execution_count": 908,
   "metadata": {},
   "outputs": [
    {
     "name": "stdout",
     "output_type": "stream",
     "text": [
      "danger_signs_at_delivery\n",
      "False    23531\n",
      "True       579\n",
      "dtype: int64\n"
     ]
    }
   ],
   "source": [
    "#Delivery Outcomes\n",
    "#danger_signs_at_delivery\n",
    "print(delivery_df.groupby('danger_signs_at_delivery').size())\n",
    "#24110"
   ]
  },
  {
   "cell_type": "code",
   "execution_count": 909,
   "metadata": {},
   "outputs": [
    {
     "name": "stdout",
     "output_type": "stream",
     "text": [
      "facility_delivery\n",
      "False     4265\n",
      "True     28200\n",
      "dtype: int64\n"
     ]
    }
   ],
   "source": [
    "#facility_delivery\n",
    "print(delivery_df.groupby('facility_delivery').size())"
   ]
  },
  {
   "cell_type": "code",
   "execution_count": 910,
   "metadata": {},
   "outputs": [
    {
     "name": "stdout",
     "output_type": "stream",
     "text": [
      "delivery_first_visit_on_time\n",
      "False     1830\n",
      "True     30635\n",
      "dtype: int64\n"
     ]
    }
   ],
   "source": [
    "#first_visit_on_time\n",
    "print(delivery_df.groupby('delivery_first_visit_on_time').size())"
   ]
  },
  {
   "cell_type": "markdown",
   "metadata": {},
   "source": [
    "# Explore Data"
   ]
  },
  {
   "cell_type": "code",
   "execution_count": 981,
   "metadata": {},
   "outputs": [
    {
     "name": "stdout",
     "output_type": "stream",
     "text": [
      "There are 49245 registered pregnancies in our dataset\n"
     ]
    }
   ],
   "source": [
    "#Count registered pregnancies\n",
    "\n",
    "print('There are ' + str(pregnancy_df['pregnancy_form_id'].nunique()) + ' registered pregnancies in our dataset')\n"
   ]
  },
  {
   "cell_type": "code",
   "execution_count": 982,
   "metadata": {},
   "outputs": [
    {
     "name": "stdout",
     "output_type": "stream",
     "text": [
      "There are 46840 women with registered pregnancies in our dataset\n"
     ]
    }
   ],
   "source": [
    "# Count pregnant women\n",
    "\n",
    "print('There are ' + str(pregnancy_df['pregnancy_patient_id'].nunique()) + ' women with registered pregnancies in our dataset')\n"
   ]
  },
  {
   "cell_type": "code",
   "execution_count": 984,
   "metadata": {},
   "outputs": [
    {
     "name": "stdout",
     "output_type": "stream",
     "text": [
      "1 max deliveries per patient\n",
      "10 max pregnancy registrations per pateient\n"
     ]
    },
    {
     "data": {
      "text/plain": [
       "array([[<matplotlib.axes._subplots.AxesSubplot object at 0x3fdc04c88>]],\n",
       "      dtype=object)"
      ]
     },
     "execution_count": 984,
     "metadata": {},
     "output_type": "execute_result"
    },
    {
     "data": {
      "image/png": "[encoded data removed]",
      "text/plain": [
       "<Figure size 432x288 with 1 Axes>"
      ]
     },
     "metadata": {
      "needs_background": "light"
     },
     "output_type": "display_data"
    }
   ],
   "source": [
    "#Since there is no pregnancy_id, there is a bit of difficulty involved in joining the pregnancy registration data \n",
    "#to the delivery data. We can use the patient_id, but since one patient can have multiple pregnancies and multiple\n",
    "#deliveries, we do not know for sure that a given pregnancy registration corresponds to a given delivery.\n",
    "\n",
    "#There are ways to help mediate this, by trying to link a pregnancy registration with a delivery by using a timeframe\n",
    "#around the approximated due date, but this is not foolproof\n",
    "\n",
    "\n",
    "#To see how much this could affect our analysis, let's see for how many women, do we have multiple deliveries\n",
    "print(str(delivery_df.groupby('delivery_patient_id')['delivery_id'].nunique().max()) + ' max deliveries per patient')\n",
    "\n",
    "#For pregnancy registrations?\n",
    "print(str(pregnancy_df.groupby('pregnancy_patient_id')['pregnancy_form_id'].nunique().max()) + ' max pregnancy registrations per pateient')\n",
    "\n",
    "#Interesting... there is only one delivery per patient, but a patient can have 10 pregnancy registrations\n",
    "\n",
    "pregnancy_counts = pregnancy_df.groupby('pregnancy_patient_id')['pregnancy_form_id'].nunique().reset_index(name=\"count\")\n",
    "\n",
    "hist = pregnancy_counts.hist(bins=9)\n",
    "hist\n",
    "\n",
    "#44675 of the 46840 patients only have one pregnancy (95%)\n",
    " \n",
    "#One time-saving option is to limit our analysis to only those patients who have a single pregnancy registration, \n",
    "#but this may introduce bias. This also doesn't guarantee the that the delivery outcome is the one associated with \n",
    "#the pregnancy registration"
   ]
  },
  {
   "cell_type": "code",
   "execution_count": 985,
   "metadata": {},
   "outputs": [
    {
     "data": {
      "text/plain": [
       "39803"
      ]
     },
     "execution_count": 985,
     "metadata": {},
     "output_type": "execute_result"
    }
   ],
   "source": [
    "#Count pregnancy visit patients\n",
    "\n",
    "pregnancy_visit_df['pregnancy_visit_patient_id'].nunique()\n"
   ]
  },
  {
   "cell_type": "code",
   "execution_count": 988,
   "metadata": {},
   "outputs": [
    {
     "data": {
      "text/plain": [
       "138638"
      ]
     },
     "execution_count": 988,
     "metadata": {},
     "output_type": "execute_result"
    }
   ],
   "source": [
    "#Count pregnancy visits\n",
    "\n",
    "pregnancy_visit_df['pregnancy_visit_form_id'].nunique()\n"
   ]
  },
  {
   "cell_type": "code",
   "execution_count": 992,
   "metadata": {},
   "outputs": [
    {
     "data": {
      "text/plain": [
       "39776"
      ]
     },
     "execution_count": 992,
     "metadata": {},
     "output_type": "execute_result"
    }
   ],
   "source": [
    "#Create pregnancy reg pregnancy visit df\n",
    "pregnancy_reg_pregnancy_visit_df = pd.merge(pregnancy_df, pregnancy_visit_df,  how='inner', left_on=['pregnancy_patient_id','pregnancy_hh_id'], right_on = ['pregnancy_visit_patient_id','pregnancy_visit_hh_id'])\n",
    "\n",
    "\n",
    "pregnancy_reg_pregnancy_visit_df.head()\n",
    "\n",
    "mutual_patients = pregnancy_reg_pregnancy_visit_df[pregnancy_reg_pregnancy_visit_df['pregnancy_patient_id'] == pregnancy_reg_pregnancy_visit_df['pregnancy_patient_id']]\n",
    "mutual_patients['pregnancy_patient_id'].nunique()\n",
    "#mutual_patients['pregnancy_visit_patient_id'].nunique()\n",
    "\n",
    "#"
   ]
  },
  {
   "cell_type": "code",
   "execution_count": 996,
   "metadata": {},
   "outputs": [
    {
     "name": "stdout",
     "output_type": "stream",
     "text": [
      "Maximum number of pregnancy visits for a single patient is 28\n",
      "The average number of pregnancy visits for a single patient is 3.4831042886214605\n",
      "The median number of pregnancy visits for a single patient is 3.0\n"
     ]
    },
    {
     "data": {
      "text/plain": [
       "array([[<matplotlib.axes._subplots.AxesSubplot object at 0x6d5650320>]],\n",
       "      dtype=object)"
      ]
     },
     "execution_count": 996,
     "metadata": {},
     "output_type": "execute_result"
    },
    {
     "data": {
      "image/png": "[encoded data removed]",
      "text/plain": [
       "<Figure size 432x288 with 1 Axes>"
      ]
     },
     "metadata": {
      "needs_background": "light"
     },
     "output_type": "display_data"
    }
   ],
   "source": [
    "#Again, without a pregnancy_id, we are unable to reliably match pregnancy visits to a pregnancy or a delivery, \n",
    "#if the patient has more than one pregnancy\n",
    "pregnancy_visit_counts = pregnancy_visit_df.groupby('pregnancy_visit_patient_id')['pregnancy_visit_form_id'].nunique().reset_index(name=\"count\")\n",
    "\n",
    "print('Maximum number of pregnancy visits for a single patient is ' + str(pregnancy_visit_counts['count'].max()))\n",
    "print('The average number of pregnancy visits for a single patient is ' + str(pregnancy_visit_counts['count'].mean()))\n",
    "print('The median number of pregnancy visits for a single patient is ' + str(pregnancy_visit_counts['count'].median()))\n",
    "hist = pregnancy_visit_counts.hist(bins=28)\n",
    "hist\n",
    "\n"
   ]
  },
  {
   "cell_type": "code",
   "execution_count": 999,
   "metadata": {},
   "outputs": [
    {
     "data": {
      "text/plain": [
       "32465"
      ]
     },
     "execution_count": 999,
     "metadata": {},
     "output_type": "execute_result"
    }
   ],
   "source": [
    "#Deliveries\n",
    "\n",
    "delivery_df['delivery_patient_id'].nunique()\n",
    "delivery_df['delivery_id'].nunique()"
   ]
  },
  {
   "cell_type": "code",
   "execution_count": 1003,
   "metadata": {},
   "outputs": [
    {
     "data": {
      "text/plain": [
       "28200"
      ]
     },
     "execution_count": 1003,
     "metadata": {},
     "output_type": "execute_result"
    }
   ],
   "source": [
    "facility_deliveries = delivery_df[delivery_df['facility_delivery']==True]\n",
    "facility_deliveries['delivery_patient_id'].nunique()\n"
   ]
  },
  {
   "cell_type": "code",
   "execution_count": 1006,
   "metadata": {},
   "outputs": [
    {
     "data": {
      "text/plain": [
       "579"
      ]
     },
     "execution_count": 1006,
     "metadata": {},
     "output_type": "execute_result"
    }
   ],
   "source": [
    "delivery_danger = delivery_df[delivery_df['danger_signs_at_delivery']==True]\n",
    "delivery_danger['delivery_patient_id'].nunique()\n"
   ]
  },
  {
   "cell_type": "code",
   "execution_count": 1009,
   "metadata": {},
   "outputs": [
    {
     "data": {
      "text/plain": [
       "30635"
      ]
     },
     "execution_count": 1009,
     "metadata": {},
     "output_type": "execute_result"
    }
   ],
   "source": [
    "postnatal = delivery_df[delivery_df['delivery_first_visit_on_time']==True]\n",
    "postnatal['delivery_patient_id'].nunique()\n"
   ]
  },
  {
   "cell_type": "code",
   "execution_count": 1012,
   "metadata": {},
   "outputs": [
    {
     "data": {
      "text/plain": [
       "37"
      ]
     },
     "execution_count": 1012,
     "metadata": {},
     "output_type": "execute_result"
    }
   ],
   "source": [
    "risky_late = set(delivery_danger['delivery_patient_id']) - set(postnatal['delivery_patient_id'])\n",
    "len(risky_late)\n"
   ]
  },
  {
   "cell_type": "markdown",
   "metadata": {},
   "source": [
    "# Aggregating Data"
   ]
  },
  {
   "cell_type": "code",
   "execution_count": 962,
   "metadata": {},
   "outputs": [
    {
     "name": "stdout",
     "output_type": "stream",
     "text": [
      "1 max deliveries per patient\n",
      "10 max pregnancy registrations per pateient\n"
     ]
    },
    {
     "ename": "AttributeError",
     "evalue": "'numpy.int64' object has no attribute 'count'",
     "output_type": "error",
     "traceback": [
      "\u001b[0;31m---------------------------------------------------------------------------\u001b[0m",
      "\u001b[0;31mAttributeError\u001b[0m                            Traceback (most recent call last)",
      "\u001b[0;32m<ipython-input-962-5e48b95d2c7f>\u001b[0m in \u001b[0;36m<module>\u001b[0;34m\u001b[0m\n\u001b[1;32m     21\u001b[0m \u001b[0;31m#44675 of the 46840 patients\u001b[0m\u001b[0;34m\u001b[0m\u001b[0;34m\u001b[0m\u001b[0m\n\u001b[1;32m     22\u001b[0m \u001b[0;34m\u001b[0m\u001b[0m\n\u001b[0;32m---> 23\u001b[0;31m \u001b[0mprint\u001b[0m\u001b[0;34m(\u001b[0m\u001b[0mstr\u001b[0m\u001b[0;34m(\u001b[0m\u001b[0mpregnancy_counts\u001b[0m\u001b[0;34m[\u001b[0m\u001b[0mpregnancy_counts\u001b[0m\u001b[0;34m[\u001b[0m\u001b[0;34m'count'\u001b[0m\u001b[0;34m]\u001b[0m\u001b[0;34m==\u001b[0m \u001b[0;36m1\u001b[0m\u001b[0;34m]\u001b[0m\u001b[0;34m.\u001b[0m\u001b[0mcount\u001b[0m\u001b[0;34m(\u001b[0m\u001b[0;34m)\u001b[0m\u001b[0;34m)\u001b[0m \u001b[0;34m+\u001b[0m \u001b[0;34m' of the '\u001b[0m \u001b[0;34m+\u001b[0m \u001b[0mstr\u001b[0m\u001b[0;34m(\u001b[0m\u001b[0mpregnancy_counts\u001b[0m\u001b[0;34m[\u001b[0m\u001b[0;34m'count'\u001b[0m\u001b[0;34m]\u001b[0m\u001b[0;34m.\u001b[0m\u001b[0msum\u001b[0m\u001b[0;34m(\u001b[0m\u001b[0;34m)\u001b[0m\u001b[0;34m.\u001b[0m\u001b[0mcount\u001b[0m\u001b[0;34m(\u001b[0m\u001b[0;34m)\u001b[0m\u001b[0;34m)\u001b[0m \u001b[0;34m+\u001b[0m \u001b[0;34m' patients have only one registered pregnancy'\u001b[0m\u001b[0;34m)\u001b[0m\u001b[0;34m\u001b[0m\u001b[0m\n\u001b[0m\u001b[1;32m     24\u001b[0m \u001b[0;34m\u001b[0m\u001b[0m\n\u001b[1;32m     25\u001b[0m \u001b[0;31m#One time-saving option is to limit our analysis to only those patients who have a single pregnancy registration,\u001b[0m\u001b[0;34m\u001b[0m\u001b[0;34m\u001b[0m\u001b[0m\n",
      "\u001b[0;31mAttributeError\u001b[0m: 'numpy.int64' object has no attribute 'count'"
     ]
    },
    {
     "data": {
      "image/png": "[encoded data removed]",
      "text/plain": [
       "<Figure size 432x288 with 1 Axes>"
      ]
     },
     "metadata": {
      "needs_background": "light"
     },
     "output_type": "display_data"
    }
   ],
   "source": [
    "pregnancy"
   ]
  },
  {
   "cell_type": "code",
   "execution_count": 960,
   "metadata": {},
   "outputs": [
    {
     "data": {
      "text/html": [
       "<div>\n",
       "<style scoped>\n",
       "    .dataframe tbody tr th:only-of-type {\n",
       "        vertical-align: middle;\n",
       "    }\n",
       "\n",
       "    .dataframe tbody tr th {\n",
       "        vertical-align: top;\n",
       "    }\n",
       "\n",
       "    .dataframe thead th {\n",
       "        text-align: right;\n",
       "    }\n",
       "</style>\n",
       "<table border=\"1\" class=\"dataframe\">\n",
       "  <thead>\n",
       "    <tr style=\"text-align: right;\">\n",
       "      <th></th>\n",
       "      <th>pregnancy_patient_id</th>\n",
       "      <th>count</th>\n",
       "    </tr>\n",
       "  </thead>\n",
       "  <tbody>\n",
       "    <tr>\n",
       "      <th>0</th>\n",
       "      <td>0000c86de88724accadc38f7dcfb807b</td>\n",
       "      <td>1</td>\n",
       "    </tr>\n",
       "    <tr>\n",
       "      <th>1</th>\n",
       "      <td>00015953a5b912803c46c51b13e69665</td>\n",
       "      <td>1</td>\n",
       "    </tr>\n",
       "    <tr>\n",
       "      <th>2</th>\n",
       "      <td>0001f330b60953f83b3e7d79c4d45a42</td>\n",
       "      <td>1</td>\n",
       "    </tr>\n",
       "    <tr>\n",
       "      <th>3</th>\n",
       "      <td>0002ad25a615c21162597bc41e8452e7</td>\n",
       "      <td>1</td>\n",
       "    </tr>\n",
       "    <tr>\n",
       "      <th>4</th>\n",
       "      <td>00038238757b71fb4ace66053bea76fe</td>\n",
       "      <td>1</td>\n",
       "    </tr>\n",
       "  </tbody>\n",
       "</table>\n",
       "</div>"
      ],
      "text/plain": [
       "               pregnancy_patient_id  count\n",
       "0  0000c86de88724accadc38f7dcfb807b      1\n",
       "1  00015953a5b912803c46c51b13e69665      1\n",
       "2  0001f330b60953f83b3e7d79c4d45a42      1\n",
       "3  0002ad25a615c21162597bc41e8452e7      1\n",
       "4  00038238757b71fb4ace66053bea76fe      1"
      ]
     },
     "execution_count": 960,
     "metadata": {},
     "output_type": "execute_result"
    }
   ],
   "source": [
    "pregnancy_counts.head()"
   ]
  },
  {
   "cell_type": "code",
   "execution_count": 912,
   "metadata": {},
   "outputs": [
    {
     "name": "stdout",
     "output_type": "stream",
     "text": [
      "There are 17014 patients with a pregnancy registration who do not have a delivery outcome.\n",
      "There are 2639 patients with a delivery outcome who do not have a pregnancy registration.\n"
     ]
    }
   ],
   "source": [
    "#Next we want to know how many patients with a pregnancy registration do not have a delivery outcome?\n",
    "print('There are ' + str(len(set(set(pregnancy_df['pregnancy_patient_id']) - set(delivery_df['delivery_patient_id'])))) + ' patients with a pregnancy registration who do not have a delivery outcome.')\n",
    "\n",
    "#Do not have a pregnancy registration?\n",
    "print('There are ' + str(len(set(set(delivery_df['delivery_patient_id']) - set(pregnancy_df['pregnancy_patient_id'])))) + ' patients with a delivery outcome who do not have a pregnancy registration.')\n"
   ]
  },
  {
   "cell_type": "code",
   "execution_count": 913,
   "metadata": {},
   "outputs": [],
   "source": [
    "#Join pregnancy and delivery data\n",
    "pregnancy_delivery_df = pd.merge(pregnancy_df, delivery_df, how='inner', left_on=['pregnancy_patient_id','pregnancy_hh_id'], right_on = ['delivery_patient_id','delivery_hh_id'])\n"
   ]
  },
  {
   "cell_type": "code",
   "execution_count": 965,
   "metadata": {},
   "outputs": [
    {
     "data": {
      "text/plain": [
       "46840"
      ]
     },
     "execution_count": 965,
     "metadata": {},
     "output_type": "execute_result"
    }
   ],
   "source": [
    "pregnancy_df['pregnancy_patient_id'].nunique()"
   ]
  },
  {
   "cell_type": "code",
   "execution_count": 966,
   "metadata": {},
   "outputs": [
    {
     "data": {
      "text/plain": [
       "32465"
      ]
     },
     "execution_count": 966,
     "metadata": {},
     "output_type": "execute_result"
    }
   ],
   "source": [
    "delivery_df['delivery_patient_id'].nunique()"
   ]
  },
  {
   "cell_type": "code",
   "execution_count": 967,
   "metadata": {},
   "outputs": [
    {
     "data": {
      "text/plain": [
       "29826"
      ]
     },
     "execution_count": 967,
     "metadata": {},
     "output_type": "execute_result"
    }
   ],
   "source": [
    "pregnancy_delivery_df['pregnancy_patient_id'].nunique()"
   ]
  },
  {
   "cell_type": "code",
   "execution_count": 968,
   "metadata": {},
   "outputs": [
    {
     "data": {
      "text/plain": [
       "29826"
      ]
     },
     "execution_count": 968,
     "metadata": {},
     "output_type": "execute_result"
    }
   ],
   "source": [
    "pregnancy_delivery_df['delivery_patient_id'].nunique()"
   ]
  },
  {
   "cell_type": "code",
   "execution_count": 970,
   "metadata": {},
   "outputs": [
    {
     "data": {
      "text/plain": [
       "pregnancy_form_id                       31717\n",
       "pregnancy_chw_id                        31717\n",
       "pregnancy_date_time_submitted           31717\n",
       "pregnancy_patient_id                    31717\n",
       "pregnancy_hh_id                         31717\n",
       "pregnancy_patient_age_in_years          31717\n",
       "pregnancy_last_menstrual_period_date    31717\n",
       "pregnancy_expected_due_date             31717\n",
       "risk_factor_1                           31717\n",
       "risk_factor_2                           31717\n",
       "risk_factor_3                           31717\n",
       "risk_factor_4                           31717\n",
       "risk_factor_5                           31717\n",
       "risk_factor_6                           31717\n",
       "danger_signs_1                          31717\n",
       "danger_signs_2                          31717\n",
       "danger_signs_3                          31717\n",
       "danger_signs_4                          31717\n",
       "danger_signs_5                          31717\n",
       "danger_signs_6                          31717\n",
       "danger_signs_7                          31717\n",
       "danger_signs_8                          31717\n",
       "danger_signs_9                          31717\n",
       "delivery_id                             31717\n",
       "delivery_chw_id                         31717\n",
       "delivery_date_time_submitted            31717\n",
       "delivery_patient_id                     31717\n",
       "delivery_hh_id                          31717\n",
       "facility_delivery                       31717\n",
       "danger_signs_at_delivery                23562\n",
       "delivery_first_visit_on_time            31717\n",
       "dtype: int64"
      ]
     },
     "execution_count": 970,
     "metadata": {},
     "output_type": "execute_result"
    }
   ],
   "source": [
    "pregnancy_delivery_df.count()"
   ]
  },
  {
   "cell_type": "code",
   "execution_count": 914,
   "metadata": {},
   "outputs": [],
   "source": [
    "%%capture\n",
    "#drop redundant joining columns\n",
    "pregnancy_delivery_df.drop(columns=['delivery_patient_id', 'delivery_hh_id'])\n"
   ]
  },
  {
   "cell_type": "code",
   "execution_count": 915,
   "metadata": {},
   "outputs": [
    {
     "data": {
      "text/html": [
       "<div>\n",
       "<style scoped>\n",
       "    .dataframe tbody tr th:only-of-type {\n",
       "        vertical-align: middle;\n",
       "    }\n",
       "\n",
       "    .dataframe tbody tr th {\n",
       "        vertical-align: top;\n",
       "    }\n",
       "\n",
       "    .dataframe thead th {\n",
       "        text-align: right;\n",
       "    }\n",
       "</style>\n",
       "<table border=\"1\" class=\"dataframe\">\n",
       "  <thead>\n",
       "    <tr style=\"text-align: right;\">\n",
       "      <th></th>\n",
       "      <th>pregnancy_form_id</th>\n",
       "      <th>pregnancy_chw_id</th>\n",
       "      <th>pregnancy_date_time_submitted</th>\n",
       "      <th>pregnancy_patient_id</th>\n",
       "      <th>pregnancy_hh_id</th>\n",
       "      <th>pregnancy_patient_age_in_years</th>\n",
       "      <th>pregnancy_last_menstrual_period_date</th>\n",
       "      <th>pregnancy_expected_due_date</th>\n",
       "      <th>risk_factor_1</th>\n",
       "      <th>risk_factor_2</th>\n",
       "      <th>...</th>\n",
       "      <th>danger_signs_8</th>\n",
       "      <th>danger_signs_9</th>\n",
       "      <th>delivery_id</th>\n",
       "      <th>delivery_chw_id</th>\n",
       "      <th>delivery_date_time_submitted</th>\n",
       "      <th>delivery_patient_id</th>\n",
       "      <th>delivery_hh_id</th>\n",
       "      <th>facility_delivery</th>\n",
       "      <th>danger_signs_at_delivery</th>\n",
       "      <th>delivery_first_visit_on_time</th>\n",
       "    </tr>\n",
       "  </thead>\n",
       "  <tbody>\n",
       "    <tr>\n",
       "      <th>0</th>\n",
       "      <td>fb4419f66aec81237d8f87c4ff0054a3</td>\n",
       "      <td>7f2d25199eef813addb4d9f783b3e075</td>\n",
       "      <td>2018-02-06</td>\n",
       "      <td>97a5f299f3254a998a3bca0ad11a154d</td>\n",
       "      <td>11d7a4f38fafa7954ce0752a1343e168</td>\n",
       "      <td>16.0</td>\n",
       "      <td>2017-08-07</td>\n",
       "      <td>2018-05-13</td>\n",
       "      <td>False</td>\n",
       "      <td>False</td>\n",
       "      <td>...</td>\n",
       "      <td>False</td>\n",
       "      <td>False</td>\n",
       "      <td>f5562a92c91af04ba249ea11cca6f735</td>\n",
       "      <td>7f2d25199eef813addb4d9f783b3e075</td>\n",
       "      <td>2018-03-03 08:06:41+00:00</td>\n",
       "      <td>97a5f299f3254a998a3bca0ad11a154d</td>\n",
       "      <td>11d7a4f38fafa7954ce0752a1343e168</td>\n",
       "      <td>True</td>\n",
       "      <td>False</td>\n",
       "      <td>True</td>\n",
       "    </tr>\n",
       "    <tr>\n",
       "      <th>1</th>\n",
       "      <td>60cee26693654bcdee37558c3efe79f8</td>\n",
       "      <td>82b888a09920a91a193b60fa68605243</td>\n",
       "      <td>2018-02-07</td>\n",
       "      <td>9769f2af62e82eb5bc661520a03739e5</td>\n",
       "      <td>2d3975a66c2fd5ec4653d151c025ba17</td>\n",
       "      <td>27.0</td>\n",
       "      <td>2017-07-29</td>\n",
       "      <td>2018-05-04</td>\n",
       "      <td>False</td>\n",
       "      <td>False</td>\n",
       "      <td>...</td>\n",
       "      <td>False</td>\n",
       "      <td>False</td>\n",
       "      <td>8d3616481a1ef21f4f6ab6a20c602a5d</td>\n",
       "      <td>82b888a09920a91a193b60fa68605243</td>\n",
       "      <td>2018-04-27 03:43:39+00:00</td>\n",
       "      <td>9769f2af62e82eb5bc661520a03739e5</td>\n",
       "      <td>2d3975a66c2fd5ec4653d151c025ba17</td>\n",
       "      <td>True</td>\n",
       "      <td>False</td>\n",
       "      <td>True</td>\n",
       "    </tr>\n",
       "    <tr>\n",
       "      <th>2</th>\n",
       "      <td>49776d9ba5b39fd209880c29cf30f10b</td>\n",
       "      <td>44d0a969dea0b117cf8eee9c671da1e1</td>\n",
       "      <td>2018-02-07</td>\n",
       "      <td>669a826b66e0615d3d5be61ea3c789f1</td>\n",
       "      <td>8085e6eee84c56353fcb12a324e4f0ec</td>\n",
       "      <td>32.0</td>\n",
       "      <td>2017-12-21</td>\n",
       "      <td>2018-09-26</td>\n",
       "      <td>False</td>\n",
       "      <td>False</td>\n",
       "      <td>...</td>\n",
       "      <td>False</td>\n",
       "      <td>False</td>\n",
       "      <td>8eefd62ebf2dd82361cfd7bb6c37ccd1</td>\n",
       "      <td>44d0a969dea0b117cf8eee9c671da1e1</td>\n",
       "      <td>2018-08-29 06:51:17+00:00</td>\n",
       "      <td>669a826b66e0615d3d5be61ea3c789f1</td>\n",
       "      <td>8085e6eee84c56353fcb12a324e4f0ec</td>\n",
       "      <td>False</td>\n",
       "      <td>NaN</td>\n",
       "      <td>True</td>\n",
       "    </tr>\n",
       "    <tr>\n",
       "      <th>3</th>\n",
       "      <td>73fbadf1c54c15e4d733e80899bd5a60</td>\n",
       "      <td>0296ee306ec54e31cdd661859e4a32ef</td>\n",
       "      <td>2018-02-07</td>\n",
       "      <td>34b484a85a48ed5441c5b09de6867306</td>\n",
       "      <td>0f01fd8cf6d363411725243842b8315d</td>\n",
       "      <td>28.0</td>\n",
       "      <td>2017-08-08</td>\n",
       "      <td>2018-05-14</td>\n",
       "      <td>False</td>\n",
       "      <td>False</td>\n",
       "      <td>...</td>\n",
       "      <td>False</td>\n",
       "      <td>False</td>\n",
       "      <td>6c2d0a4fc1224364215906d3a815cb43</td>\n",
       "      <td>0296ee306ec54e31cdd661859e4a32ef</td>\n",
       "      <td>2018-07-18 14:57:11+00:00</td>\n",
       "      <td>34b484a85a48ed5441c5b09de6867306</td>\n",
       "      <td>0f01fd8cf6d363411725243842b8315d</td>\n",
       "      <td>True</td>\n",
       "      <td>False</td>\n",
       "      <td>True</td>\n",
       "    </tr>\n",
       "    <tr>\n",
       "      <th>4</th>\n",
       "      <td>46f237f3890d2e9e37cb6b0e7fb0edc3</td>\n",
       "      <td>a3abfd66e17a0e3a1303dcb3bfb937d1</td>\n",
       "      <td>2018-02-07</td>\n",
       "      <td>c697f1476734d3b8782c6288a2aaf478</td>\n",
       "      <td>d4d73db5620f13202fdb7edd0c5c21c9</td>\n",
       "      <td>25.0</td>\n",
       "      <td>2017-12-08</td>\n",
       "      <td>2018-09-13</td>\n",
       "      <td>False</td>\n",
       "      <td>False</td>\n",
       "      <td>...</td>\n",
       "      <td>False</td>\n",
       "      <td>False</td>\n",
       "      <td>09006aac17fd54a94965895938dc5d19</td>\n",
       "      <td>a3abfd66e17a0e3a1303dcb3bfb937d1</td>\n",
       "      <td>2018-08-17 13:49:58+00:00</td>\n",
       "      <td>c697f1476734d3b8782c6288a2aaf478</td>\n",
       "      <td>d4d73db5620f13202fdb7edd0c5c21c9</td>\n",
       "      <td>True</td>\n",
       "      <td>False</td>\n",
       "      <td>True</td>\n",
       "    </tr>\n",
       "  </tbody>\n",
       "</table>\n",
       "<p>5 rows × 31 columns</p>\n",
       "</div>"
      ],
      "text/plain": [
       "                  pregnancy_form_id                  pregnancy_chw_id  \\\n",
       "0  fb4419f66aec81237d8f87c4ff0054a3  7f2d25199eef813addb4d9f783b3e075   \n",
       "1  60cee26693654bcdee37558c3efe79f8  82b888a09920a91a193b60fa68605243   \n",
       "2  49776d9ba5b39fd209880c29cf30f10b  44d0a969dea0b117cf8eee9c671da1e1   \n",
       "3  73fbadf1c54c15e4d733e80899bd5a60  0296ee306ec54e31cdd661859e4a32ef   \n",
       "4  46f237f3890d2e9e37cb6b0e7fb0edc3  a3abfd66e17a0e3a1303dcb3bfb937d1   \n",
       "\n",
       "  pregnancy_date_time_submitted              pregnancy_patient_id  \\\n",
       "0                    2018-02-06  97a5f299f3254a998a3bca0ad11a154d   \n",
       "1                    2018-02-07  9769f2af62e82eb5bc661520a03739e5   \n",
       "2                    2018-02-07  669a826b66e0615d3d5be61ea3c789f1   \n",
       "3                    2018-02-07  34b484a85a48ed5441c5b09de6867306   \n",
       "4                    2018-02-07  c697f1476734d3b8782c6288a2aaf478   \n",
       "\n",
       "                    pregnancy_hh_id  pregnancy_patient_age_in_years  \\\n",
       "0  11d7a4f38fafa7954ce0752a1343e168                            16.0   \n",
       "1  2d3975a66c2fd5ec4653d151c025ba17                            27.0   \n",
       "2  8085e6eee84c56353fcb12a324e4f0ec                            32.0   \n",
       "3  0f01fd8cf6d363411725243842b8315d                            28.0   \n",
       "4  d4d73db5620f13202fdb7edd0c5c21c9                            25.0   \n",
       "\n",
       "  pregnancy_last_menstrual_period_date pregnancy_expected_due_date  \\\n",
       "0                           2017-08-07                  2018-05-13   \n",
       "1                           2017-07-29                  2018-05-04   \n",
       "2                           2017-12-21                  2018-09-26   \n",
       "3                           2017-08-08                  2018-05-14   \n",
       "4                           2017-12-08                  2018-09-13   \n",
       "\n",
       "  risk_factor_1 risk_factor_2  ... danger_signs_8 danger_signs_9  \\\n",
       "0         False         False  ...          False          False   \n",
       "1         False         False  ...          False          False   \n",
       "2         False         False  ...          False          False   \n",
       "3         False         False  ...          False          False   \n",
       "4         False         False  ...          False          False   \n",
       "\n",
       "                        delivery_id                   delivery_chw_id  \\\n",
       "0  f5562a92c91af04ba249ea11cca6f735  7f2d25199eef813addb4d9f783b3e075   \n",
       "1  8d3616481a1ef21f4f6ab6a20c602a5d  82b888a09920a91a193b60fa68605243   \n",
       "2  8eefd62ebf2dd82361cfd7bb6c37ccd1  44d0a969dea0b117cf8eee9c671da1e1   \n",
       "3  6c2d0a4fc1224364215906d3a815cb43  0296ee306ec54e31cdd661859e4a32ef   \n",
       "4  09006aac17fd54a94965895938dc5d19  a3abfd66e17a0e3a1303dcb3bfb937d1   \n",
       "\n",
       "  delivery_date_time_submitted               delivery_patient_id  \\\n",
       "0    2018-03-03 08:06:41+00:00  97a5f299f3254a998a3bca0ad11a154d   \n",
       "1    2018-04-27 03:43:39+00:00  9769f2af62e82eb5bc661520a03739e5   \n",
       "2    2018-08-29 06:51:17+00:00  669a826b66e0615d3d5be61ea3c789f1   \n",
       "3    2018-07-18 14:57:11+00:00  34b484a85a48ed5441c5b09de6867306   \n",
       "4    2018-08-17 13:49:58+00:00  c697f1476734d3b8782c6288a2aaf478   \n",
       "\n",
       "                     delivery_hh_id facility_delivery  \\\n",
       "0  11d7a4f38fafa7954ce0752a1343e168              True   \n",
       "1  2d3975a66c2fd5ec4653d151c025ba17              True   \n",
       "2  8085e6eee84c56353fcb12a324e4f0ec             False   \n",
       "3  0f01fd8cf6d363411725243842b8315d              True   \n",
       "4  d4d73db5620f13202fdb7edd0c5c21c9              True   \n",
       "\n",
       "  danger_signs_at_delivery delivery_first_visit_on_time  \n",
       "0                    False                         True  \n",
       "1                    False                         True  \n",
       "2                      NaN                         True  \n",
       "3                    False                         True  \n",
       "4                    False                         True  \n",
       "\n",
       "[5 rows x 31 columns]"
      ]
     },
     "execution_count": 915,
     "metadata": {},
     "output_type": "execute_result"
    }
   ],
   "source": [
    "#preview joined data\n",
    "pregnancy_delivery_df.head()\n"
   ]
  },
  {
   "cell_type": "code",
   "execution_count": null,
   "metadata": {},
   "outputs": [],
   "source": [
    "#ADD PREGNANCY VISITS DATASET"
   ]
  },
  {
   "cell_type": "code",
   "execution_count": 928,
   "metadata": {},
   "outputs": [
    {
     "data": {
      "text/plain": [
       "138638"
      ]
     },
     "execution_count": 928,
     "metadata": {},
     "output_type": "execute_result"
    }
   ],
   "source": [
    "pregnancy_visit_df['danger_signs_1'].count()"
   ]
  },
  {
   "cell_type": "code",
   "execution_count": 938,
   "metadata": {},
   "outputs": [
    {
     "data": {
      "text/plain": [
       "pregnancy_visit_form_id                        4536\n",
       "pregnancy_visit_chw_id                         4536\n",
       "pregnancy_visit_date_time_submitted            4536\n",
       "pregnancy_visit_patient_id                     4536\n",
       "pregnancy_visit_hh_id                          4536\n",
       "pregnancy_visit_how_visit_conducted            4536\n",
       "pregnancy_visit_referred_to_health_facility    4536\n",
       "danger_signs_1                                 4536\n",
       "danger_signs_2                                 4536\n",
       "danger_signs_3                                 4536\n",
       "danger_signs_4                                 4536\n",
       "danger_signs_5                                 4536\n",
       "danger_signs_6                                 4536\n",
       "danger_signs_7                                 4536\n",
       "danger_signs_8                                 4536\n",
       "danger_signs_9                                 4536\n",
       "dtype: int64"
      ]
     },
     "execution_count": 938,
     "metadata": {},
     "output_type": "execute_result"
    }
   ],
   "source": [
    "pregnancy_visit_df[pregnancy_visit_df['danger_signs_1']==True].count()\n",
    "#1.3% of visits have danger signs_1\n",
    "\n",
    "pregnancy_visit_df[pregnancy_visit_df['danger_signs_2']==True].count()\n",
    "#0.3% of visits have danger_signs_2\n",
    "\n",
    "pregnancy_visit_df[(pregnancy_visit_df['danger_signs_1']==True) | (pregnancy_visit_df['danger_signs_2']==True) | (pregnancy_visit_df['danger_signs_3']==True) | (pregnancy_visit_df['danger_signs_4']==True) | (pregnancy_visit_df['danger_signs_5']==True) | (pregnancy_visit_df['danger_signs_6']==True) | (pregnancy_visit_df['danger_signs_7']==True) | (pregnancy_visit_df['danger_signs_8']==True) | (pregnancy_visit_df['danger_signs_9']==True)].count()\n",
    "\n",
    "##Only 3.3% of pregnancy visits have danger signs\n",
    "\n"
   ]
  },
  {
   "cell_type": "code",
   "execution_count": 940,
   "metadata": {},
   "outputs": [
    {
     "data": {
      "text/html": [
       "<div>\n",
       "<style scoped>\n",
       "    .dataframe tbody tr th:only-of-type {\n",
       "        vertical-align: middle;\n",
       "    }\n",
       "\n",
       "    .dataframe tbody tr th {\n",
       "        vertical-align: top;\n",
       "    }\n",
       "\n",
       "    .dataframe thead th {\n",
       "        text-align: right;\n",
       "    }\n",
       "</style>\n",
       "<table border=\"1\" class=\"dataframe\">\n",
       "  <thead>\n",
       "    <tr style=\"text-align: right;\">\n",
       "      <th></th>\n",
       "      <th>pregnancy_visit_form_id</th>\n",
       "      <th>pregnancy_visit_chw_id</th>\n",
       "      <th>pregnancy_visit_date_time_submitted</th>\n",
       "      <th>pregnancy_visit_patient_id</th>\n",
       "      <th>pregnancy_visit_hh_id</th>\n",
       "      <th>pregnancy_visit_how_visit_conducted</th>\n",
       "      <th>pregnancy_visit_referred_to_health_facility</th>\n",
       "      <th>danger_signs_1</th>\n",
       "      <th>danger_signs_2</th>\n",
       "      <th>danger_signs_3</th>\n",
       "      <th>danger_signs_4</th>\n",
       "      <th>danger_signs_5</th>\n",
       "      <th>danger_signs_6</th>\n",
       "      <th>danger_signs_7</th>\n",
       "      <th>danger_signs_8</th>\n",
       "      <th>danger_signs_9</th>\n",
       "    </tr>\n",
       "  </thead>\n",
       "  <tbody>\n",
       "    <tr>\n",
       "      <th>0</th>\n",
       "      <td>b7f54f0722371170bc030cba2d48a625</td>\n",
       "      <td>17a3051e53283b760752528ca672475f</td>\n",
       "      <td>2018-01-14</td>\n",
       "      <td>43247b91bca109e83ff8e119daaab050</td>\n",
       "      <td>49a14e0b378aeaeedc49ae48b3188878</td>\n",
       "      <td>in_person</td>\n",
       "      <td>False</td>\n",
       "      <td>False</td>\n",
       "      <td>False</td>\n",
       "      <td>False</td>\n",
       "      <td>False</td>\n",
       "      <td>False</td>\n",
       "      <td>False</td>\n",
       "      <td>False</td>\n",
       "      <td>False</td>\n",
       "      <td>False</td>\n",
       "    </tr>\n",
       "    <tr>\n",
       "      <th>1</th>\n",
       "      <td>8addb85dd2089ae4909196de9568cbb5</td>\n",
       "      <td>17a3051e53283b760752528ca672475f</td>\n",
       "      <td>2017-11-22</td>\n",
       "      <td>43247b91bca109e83ff8e119daaab050</td>\n",
       "      <td>49a14e0b378aeaeedc49ae48b3188878</td>\n",
       "      <td>in_person</td>\n",
       "      <td>False</td>\n",
       "      <td>False</td>\n",
       "      <td>False</td>\n",
       "      <td>False</td>\n",
       "      <td>False</td>\n",
       "      <td>False</td>\n",
       "      <td>False</td>\n",
       "      <td>False</td>\n",
       "      <td>False</td>\n",
       "      <td>False</td>\n",
       "    </tr>\n",
       "    <tr>\n",
       "      <th>2</th>\n",
       "      <td>f37c94789946fe18b90153091617f18e</td>\n",
       "      <td>17a3051e53283b760752528ca672475f</td>\n",
       "      <td>2018-01-03</td>\n",
       "      <td>43247b91bca109e83ff8e119daaab050</td>\n",
       "      <td>49a14e0b378aeaeedc49ae48b3188878</td>\n",
       "      <td>in_person</td>\n",
       "      <td>False</td>\n",
       "      <td>False</td>\n",
       "      <td>False</td>\n",
       "      <td>False</td>\n",
       "      <td>False</td>\n",
       "      <td>False</td>\n",
       "      <td>False</td>\n",
       "      <td>False</td>\n",
       "      <td>False</td>\n",
       "      <td>False</td>\n",
       "    </tr>\n",
       "    <tr>\n",
       "      <th>3</th>\n",
       "      <td>014c6d3d0e47b2393b6037967f7a773e</td>\n",
       "      <td>17a3051e53283b760752528ca672475f</td>\n",
       "      <td>2017-10-15</td>\n",
       "      <td>43247b91bca109e83ff8e119daaab050</td>\n",
       "      <td>49a14e0b378aeaeedc49ae48b3188878</td>\n",
       "      <td>in_person</td>\n",
       "      <td>True</td>\n",
       "      <td>False</td>\n",
       "      <td>False</td>\n",
       "      <td>False</td>\n",
       "      <td>False</td>\n",
       "      <td>True</td>\n",
       "      <td>True</td>\n",
       "      <td>False</td>\n",
       "      <td>False</td>\n",
       "      <td>False</td>\n",
       "    </tr>\n",
       "    <tr>\n",
       "      <th>4</th>\n",
       "      <td>c02d4aa61a5cc2a7ad5108ea3255c9f3</td>\n",
       "      <td>17a3051e53283b760752528ca672475f</td>\n",
       "      <td>2017-12-12</td>\n",
       "      <td>43247b91bca109e83ff8e119daaab050</td>\n",
       "      <td>49a14e0b378aeaeedc49ae48b3188878</td>\n",
       "      <td>in_person</td>\n",
       "      <td>False</td>\n",
       "      <td>False</td>\n",
       "      <td>False</td>\n",
       "      <td>False</td>\n",
       "      <td>False</td>\n",
       "      <td>False</td>\n",
       "      <td>False</td>\n",
       "      <td>False</td>\n",
       "      <td>False</td>\n",
       "      <td>False</td>\n",
       "    </tr>\n",
       "  </tbody>\n",
       "</table>\n",
       "</div>"
      ],
      "text/plain": [
       "            pregnancy_visit_form_id            pregnancy_visit_chw_id  \\\n",
       "0  b7f54f0722371170bc030cba2d48a625  17a3051e53283b760752528ca672475f   \n",
       "1  8addb85dd2089ae4909196de9568cbb5  17a3051e53283b760752528ca672475f   \n",
       "2  f37c94789946fe18b90153091617f18e  17a3051e53283b760752528ca672475f   \n",
       "3  014c6d3d0e47b2393b6037967f7a773e  17a3051e53283b760752528ca672475f   \n",
       "4  c02d4aa61a5cc2a7ad5108ea3255c9f3  17a3051e53283b760752528ca672475f   \n",
       "\n",
       "  pregnancy_visit_date_time_submitted        pregnancy_visit_patient_id  \\\n",
       "0                          2018-01-14  43247b91bca109e83ff8e119daaab050   \n",
       "1                          2017-11-22  43247b91bca109e83ff8e119daaab050   \n",
       "2                          2018-01-03  43247b91bca109e83ff8e119daaab050   \n",
       "3                          2017-10-15  43247b91bca109e83ff8e119daaab050   \n",
       "4                          2017-12-12  43247b91bca109e83ff8e119daaab050   \n",
       "\n",
       "              pregnancy_visit_hh_id pregnancy_visit_how_visit_conducted  \\\n",
       "0  49a14e0b378aeaeedc49ae48b3188878                           in_person   \n",
       "1  49a14e0b378aeaeedc49ae48b3188878                           in_person   \n",
       "2  49a14e0b378aeaeedc49ae48b3188878                           in_person   \n",
       "3  49a14e0b378aeaeedc49ae48b3188878                           in_person   \n",
       "4  49a14e0b378aeaeedc49ae48b3188878                           in_person   \n",
       "\n",
       "   pregnancy_visit_referred_to_health_facility danger_signs_1 danger_signs_2  \\\n",
       "0                                        False          False          False   \n",
       "1                                        False          False          False   \n",
       "2                                        False          False          False   \n",
       "3                                         True          False          False   \n",
       "4                                        False          False          False   \n",
       "\n",
       "  danger_signs_3 danger_signs_4 danger_signs_5 danger_signs_6 danger_signs_7  \\\n",
       "0          False          False          False          False          False   \n",
       "1          False          False          False          False          False   \n",
       "2          False          False          False          False          False   \n",
       "3          False          False           True           True          False   \n",
       "4          False          False          False          False          False   \n",
       "\n",
       "  danger_signs_8 danger_signs_9  \n",
       "0          False          False  \n",
       "1          False          False  \n",
       "2          False          False  \n",
       "3          False          False  \n",
       "4          False          False  "
      ]
     },
     "execution_count": 940,
     "metadata": {},
     "output_type": "execute_result"
    }
   ],
   "source": [
    "pregnancy_visit_df.head()"
   ]
  },
  {
   "cell_type": "code",
   "execution_count": 947,
   "metadata": {},
   "outputs": [
    {
     "name": "stdout",
     "output_type": "stream",
     "text": [
      "Maximum number of pregnancy visits for a single patient is 28\n"
     ]
    },
    {
     "data": {
      "text/plain": [
       "array([[<matplotlib.axes._subplots.AxesSubplot object at 0x2a0c43cc0>]],\n",
       "      dtype=object)"
      ]
     },
     "execution_count": 947,
     "metadata": {},
     "output_type": "execute_result"
    },
    {
     "data": {
      "image/png": "[encoded data removed]",
      "text/plain": [
       "<Figure size 432x288 with 1 Axes>"
      ]
     },
     "metadata": {
      "needs_background": "light"
     },
     "output_type": "display_data"
    }
   ],
   "source": []
  },
  {
   "cell_type": "code",
   "execution_count": 978,
   "metadata": {},
   "outputs": [
    {
     "data": {
      "text/plain": [
       "23642"
      ]
     },
     "execution_count": 978,
     "metadata": {},
     "output_type": "execute_result"
    }
   ],
   "source": [
    "\n",
    "more_visits = pd.DataFrame(pregnancy_visit_counts[pregnancy_visit_counts['count'] >= 3])\n",
    "\n",
    "more_visits['pregnancy_visit_patient_id'].nunique()"
   ]
  },
  {
   "cell_type": "code",
   "execution_count": 979,
   "metadata": {},
   "outputs": [
    {
     "data": {
      "text/plain": [
       "39803"
      ]
     },
     "execution_count": 979,
     "metadata": {},
     "output_type": "execute_result"
    }
   ],
   "source": [
    "pregnancy_visit_counts['pregnancy_visit_patient_id'].nunique()\n",
    "\n",
    "#Of the patients who had at least one pregnancy visit, 99.3% of them had 3 or more pregnancy visits"
   ]
  },
  {
   "cell_type": "code",
   "execution_count": 964,
   "metadata": {},
   "outputs": [
    {
     "data": {
      "text/plain": [
       "pregnancy_form_id                       31717\n",
       "pregnancy_chw_id                        31717\n",
       "pregnancy_date_time_submitted           31717\n",
       "pregnancy_patient_id                    31717\n",
       "pregnancy_hh_id                         31717\n",
       "pregnancy_patient_age_in_years          31717\n",
       "pregnancy_last_menstrual_period_date    31717\n",
       "pregnancy_expected_due_date             31717\n",
       "risk_factor_1                           31717\n",
       "risk_factor_2                           31717\n",
       "risk_factor_3                           31717\n",
       "risk_factor_4                           31717\n",
       "risk_factor_5                           31717\n",
       "risk_factor_6                           31717\n",
       "danger_signs_1                          31717\n",
       "danger_signs_2                          31717\n",
       "danger_signs_3                          31717\n",
       "danger_signs_4                          31717\n",
       "danger_signs_5                          31717\n",
       "danger_signs_6                          31717\n",
       "danger_signs_7                          31717\n",
       "danger_signs_8                          31717\n",
       "danger_signs_9                          31717\n",
       "delivery_id                             31717\n",
       "delivery_chw_id                         31717\n",
       "delivery_date_time_submitted            31717\n",
       "delivery_patient_id                     31717\n",
       "delivery_hh_id                          31717\n",
       "facility_delivery                       31717\n",
       "danger_signs_at_delivery                23562\n",
       "delivery_first_visit_on_time            31717\n",
       "dtype: int64"
      ]
     },
     "execution_count": 964,
     "metadata": {},
     "output_type": "execute_result"
    }
   ],
   "source": [
    "pregnancy_delivery_df.count()"
   ]
  },
  {
   "cell_type": "code",
   "execution_count": null,
   "metadata": {},
   "outputs": [],
   "source": []
  },
  {
   "cell_type": "code",
   "execution_count": null,
   "metadata": {},
   "outputs": [],
   "source": []
  },
  {
   "cell_type": "code",
   "execution_count": null,
   "metadata": {},
   "outputs": [],
   "source": [
    "#create pregnancy only dataset\n",
    "\n",
    "#inner join for only people with a registered pregnancy\n",
    "person_family_pregnancy_df = pd.merge(person_family_df, pregnancy_df,  how='inner', left_on=['person_id','hh_id'], right_on = ['pregnancy_patient_id','pregnancy_hh_id'])\n",
    "#person_family_pregnancy_df.drop(columns=['pregnancy_patient_id', 'pregnancy_hh_id'])\n",
    "\n",
    "person_family_pregnancy_pregnancy_visit_df = pd.merge(person_family_pregnancy_df, pregnancy_visit_df,  how='left', left_on=['person_id','hh_id'], right_on = ['pregnancy_visit_patient_id','pregnancy_visit_hh_id'])\n",
    "#person_family_pregnancy_pregnancy_visit_df.drop(columns=['pregnancy_visit_patient_id', 'pregnancy_visit_hh_id'])\n",
    "\n",
    "pregnancy_only_df = pd.merge(person_family_pregnancy_pregnancy_visit_df, delivery_df,  how='left', left_on=['person_id','hh_id'], right_on = ['delivery_patient_id','delivery_hh_id'])\n",
    "#pregnancy_only_df.drop(columns=['delivery_patient_id', 'delivery_hh_id'])\n"
   ]
  },
  {
   "cell_type": "code",
   "execution_count": null,
   "metadata": {},
   "outputs": [],
   "source": []
  },
  {
   "cell_type": "code",
   "execution_count": null,
   "metadata": {},
   "outputs": [],
   "source": []
  },
  {
   "cell_type": "code",
   "execution_count": null,
   "metadata": {},
   "outputs": [],
   "source": []
  },
  {
   "cell_type": "code",
   "execution_count": null,
   "metadata": {},
   "outputs": [],
   "source": [
    "#join person and family_survey\n",
    "person_family_df = pd.merge(person_df, family_survey_df, how='left', left_on=['hh_id'], right_on = ['hh_id']) "
   ]
  },
  {
   "cell_type": "code",
   "execution_count": null,
   "metadata": {},
   "outputs": [],
   "source": [
    "person_family_df.columns"
   ]
  },
  {
   "cell_type": "code",
   "execution_count": null,
   "metadata": {},
   "outputs": [],
   "source": [
    "#join assessment\n",
    "person_family_assessments_df = pd.merge(person_family_df, assessments_df,  how='left', left_on=['person_id','hh_id'], right_on = ['assessment_patient_id','assessment_hh_id'], suffixes=('', '_y'))"
   ]
  },
  {
   "cell_type": "code",
   "execution_count": null,
   "metadata": {},
   "outputs": [],
   "source": [
    "person_family_assessments_df.columns"
   ]
  },
  {
   "cell_type": "code",
   "execution_count": null,
   "metadata": {},
   "outputs": [],
   "source": [
    "#drop redundant columns\n",
    "person_family_assessments_df.drop(columns=['assessment_patient_id', 'assessment_hh_id'])"
   ]
  },
  {
   "cell_type": "code",
   "execution_count": null,
   "metadata": {},
   "outputs": [],
   "source": [
    "#join assessment_follow_up\n",
    "person_family_assessments_assessment_follow_up_df = pd.merge(person_family_assessments_df, assessment_follow_up_df,  how='left', left_on=['person_id','hh_id', 'assessment_assessment_id'], right_on = ['assessment_follow_up_patient_id','assessment_follow_up_hh_id', 'assessment_follow_up_assessment_id'], suffixes=('', '_y'))"
   ]
  },
  {
   "cell_type": "code",
   "execution_count": null,
   "metadata": {},
   "outputs": [],
   "source": [
    "#drop redundant columns\n",
    "person_family_assessments_assessment_follow_up_df.drop(columns=['assessment_follow_up_patient_id', 'assessment_follow_up_hh_id', 'assessment_follow_up_assessment_id'])"
   ]
  },
  {
   "cell_type": "code",
   "execution_count": null,
   "metadata": {},
   "outputs": [],
   "source": [
    "#join pregnancy\n",
    "\n",
    "\n",
    "\n",
    "person_family_assessments_assessment_follow_up_pregnancy_df = pd.merge(person_family_assessments_assessment_follow_up_df, pregnancy_df,  how='left', left_on=['person_id','hh_id'], right_on = ['pregnancy_patient_id','pregnancy_hh_id'])\n",
    "\n",
    "\n",
    "\n"
   ]
  },
  {
   "cell_type": "code",
   "execution_count": null,
   "metadata": {},
   "outputs": [],
   "source": [
    "person_family_assessments_assessment_follow_up_pregnancy_df.drop(columns=['pregnancy_patient_id', 'pregnancy_hh_id'])"
   ]
  },
  {
   "cell_type": "code",
   "execution_count": null,
   "metadata": {},
   "outputs": [],
   "source": [
    "person_family_assessments_assessment_follow_up_pregnancy_pregnancy_visit_df = pd.merge(person_family_assessments_assessment_follow_up_pregnancy_df, pregnancy_visit_df,  how='left', left_on=['person_id','hh_id'], right_on = ['pregnancy_visit_patient_id','pregnancy_visit_hh_id'])\n"
   ]
  },
  {
   "cell_type": "code",
   "execution_count": null,
   "metadata": {},
   "outputs": [],
   "source": [
    "person_family_assessments_assessment_follow_up_pregnancy_pregnancy_visit_df.drop(columns=['pregnancy_visit_patient_id', 'pregnancy_visit_hh_id'])"
   ]
  },
  {
   "cell_type": "code",
   "execution_count": null,
   "metadata": {},
   "outputs": [],
   "source": [
    "master_df = pd.merge(person_family_assessments_assessment_follow_up_pregnancy_pregnancy_visit_df, delivery_df,  how='left', left_on=['person_id','hh_id'], right_on = ['delivery_patient_id','delivery_hh_id'])\n",
    "\n",
    "\n",
    "\n",
    "\n"
   ]
  },
  {
   "cell_type": "code",
   "execution_count": null,
   "metadata": {},
   "outputs": [],
   "source": [
    "master_df.drop(columns=['delivery_patient_id', 'delivery_hh_id'])"
   ]
  },
  {
   "cell_type": "code",
   "execution_count": null,
   "metadata": {},
   "outputs": [],
   "source": [
    "master_df.head()"
   ]
  },
  {
   "cell_type": "code",
   "execution_count": null,
   "metadata": {},
   "outputs": [],
   "source": [
    "#BEGIN DATA EXPLORATION\n",
    "master_df.columns"
   ]
  },
  {
   "cell_type": "code",
   "execution_count": null,
   "metadata": {},
   "outputs": [],
   "source": [
    "for i in master_df.columns:\n",
    "    print(type(i))"
   ]
  },
  {
   "cell_type": "markdown",
   "metadata": {},
   "source": [
    "# Pregnancy Data Investigation"
   ]
  },
  {
   "cell_type": "code",
   "execution_count": null,
   "metadata": {},
   "outputs": [],
   "source": [
    "#create pregnancy only dataset\n",
    "\n",
    "#inner join for only people with a registered pregnancy\n",
    "person_family_pregnancy_df = pd.merge(person_family_df, pregnancy_df,  how='inner', left_on=['person_id','hh_id'], right_on = ['pregnancy_patient_id','pregnancy_hh_id'])\n",
    "#person_family_pregnancy_df.drop(columns=['pregnancy_patient_id', 'pregnancy_hh_id'])\n",
    "\n",
    "person_family_pregnancy_pregnancy_visit_df = pd.merge(person_family_pregnancy_df, pregnancy_visit_df,  how='left', left_on=['person_id','hh_id'], right_on = ['pregnancy_visit_patient_id','pregnancy_visit_hh_id'])\n",
    "#person_family_pregnancy_pregnancy_visit_df.drop(columns=['pregnancy_visit_patient_id', 'pregnancy_visit_hh_id'])\n",
    "\n",
    "pregnancy_only_df = pd.merge(person_family_pregnancy_pregnancy_visit_df, delivery_df,  how='left', left_on=['person_id','hh_id'], right_on = ['delivery_patient_id','delivery_hh_id'])\n",
    "#pregnancy_only_df.drop(columns=['delivery_patient_id', 'delivery_hh_id'])\n",
    "\n"
   ]
  },
  {
   "cell_type": "code",
   "execution_count": null,
   "metadata": {},
   "outputs": [],
   "source": [
    "pregnancy_only_df.columns"
   ]
  },
  {
   "cell_type": "code",
   "execution_count": null,
   "metadata": {},
   "outputs": [],
   "source": [
    "pregnancy_only_df.head()"
   ]
  },
  {
   "cell_type": "code",
   "execution_count": null,
   "metadata": {},
   "outputs": [],
   "source": [
    "len(pregnancy_only_df)"
   ]
  },
  {
   "cell_type": "code",
   "execution_count": null,
   "metadata": {},
   "outputs": [],
   "source": [
    "#How many registered pregnancies\n",
    "pregnancy_only_df['pregnancy_form_id'].nunique()"
   ]
  },
  {
   "cell_type": "code",
   "execution_count": null,
   "metadata": {},
   "outputs": [],
   "source": [
    "#How many patients\n",
    "#Count patient ids from original dataset since we left joined from the person table\n",
    "pregnancy_df['pregnancy_patient_id'].nunique()"
   ]
  },
  {
   "cell_type": "code",
   "execution_count": null,
   "metadata": {},
   "outputs": [],
   "source": [
    "pregnancy_only_df['pregnancy_patient_id'].nunique()"
   ]
  },
  {
   "cell_type": "code",
   "execution_count": null,
   "metadata": {},
   "outputs": [],
   "source": [
    "pregnancy_only_df['person_id'].nunique()"
   ]
  },
  {
   "cell_type": "code",
   "execution_count": null,
   "metadata": {},
   "outputs": [],
   "source": [
    "pregnancy_only_df['hh_id'].nunique()"
   ]
  },
  {
   "cell_type": "code",
   "execution_count": null,
   "metadata": {},
   "outputs": [],
   "source": [
    "delivery_df['delivery_id'].nunique()"
   ]
  },
  {
   "cell_type": "code",
   "execution_count": null,
   "metadata": {},
   "outputs": [],
   "source": [
    "pregnancy_only_df['delivery_id'].nunique()"
   ]
  },
  {
   "cell_type": "code",
   "execution_count": null,
   "metadata": {},
   "outputs": [],
   "source": [
    "outer_pregnancy_delivery_df = pd.merge(pregnancy_df, delivery_df,  how='outer', left_on=['pregnancy_patient_id','pregnancy_hh_id'], right_on = ['delivery_patient_id','delivery_hh_id'])\n",
    "#pe"
   ]
  },
  {
   "cell_type": "code",
   "execution_count": null,
   "metadata": {},
   "outputs": [],
   "source": [
    "outer_pregnancy_delivery_df['pregnancy_patient_id'].nunique()"
   ]
  },
  {
   "cell_type": "code",
   "execution_count": null,
   "metadata": {},
   "outputs": [],
   "source": [
    "outer_pregnancy_delivery_df['delivery_patient_id'].nunique()"
   ]
  },
  {
   "cell_type": "code",
   "execution_count": null,
   "metadata": {},
   "outputs": [],
   "source": [
    "inner_pregnancy_delivery_df = pd.merge(pregnancy_df, delivery_df,  how='inner', left_on=['pregnancy_patient_id','pregnancy_hh_id'], right_on = ['delivery_patient_id','delivery_hh_id'])\n"
   ]
  },
  {
   "cell_type": "code",
   "execution_count": null,
   "metadata": {},
   "outputs": [],
   "source": [
    "inner_pregnancy_delivery_df['pregnancy_patient_id'].nunique()"
   ]
  },
  {
   "cell_type": "code",
   "execution_count": null,
   "metadata": {},
   "outputs": [],
   "source": [
    "inner_pregnancy_delivery_df['delivery_patient_id'].nunique()"
   ]
  },
  {
   "cell_type": "code",
   "execution_count": null,
   "metadata": {},
   "outputs": [],
   "source": [
    "#how many people had registered pregnancies vs how many people had registered pregnancies and registered deliveries\n",
    "#46840 - 29826 = 17014"
   ]
  },
  {
   "cell_type": "markdown",
   "metadata": {},
   "source": [
    "# Pregnancies Per Woman"
   ]
  },
  {
   "cell_type": "code",
   "execution_count": null,
   "metadata": {},
   "outputs": [],
   "source": [
    "pregnancy_only_df.groupby('person_id')['pregnancy_pregnancy_form_id'].nunique()\n"
   ]
  },
  {
   "cell_type": "code",
   "execution_count": null,
   "metadata": {},
   "outputs": [],
   "source": [
    "pregnancy_df[pregnancy_df['pregnancy_patient_id'] == 'fff434779d039bf8b331f4c06beaf27b']"
   ]
  },
  {
   "cell_type": "code",
   "execution_count": null,
   "metadata": {},
   "outputs": [],
   "source": [
    "delivery_df[delivery_df['delivery_patient_id'] == 'fff434779d039bf8b331f4c06beaf27b']"
   ]
  },
  {
   "cell_type": "code",
   "execution_count": null,
   "metadata": {},
   "outputs": [],
   "source": [
    "pregnancy_only_df.head()"
   ]
  },
  {
   "cell_type": "markdown",
   "metadata": {},
   "source": [
    "# Converting Data Types"
   ]
  },
  {
   "cell_type": "code",
   "execution_count": null,
   "metadata": {},
   "outputs": [],
   "source": [
    "#convert date strings to date objects\n",
    "pregnancy_only_df['date_of_birth'] = pd.to_datetime(pregnancy_only_df['date_of_birth'])\n",
    "pregnancy_only_df['pregnancy_last_menstrual_period_date'] = pd.to_datetime(pregnancy_only_df['pregnancy_last_menstrual_period_date'])\n",
    "pregnancy_only_df['pregnancy_date_time_submitted'] = pd.to_datetime(pregnancy_only_df['pregnancy_date_time_submitted'])\n",
    "pregnancy_only_df['pregnancy_expected_due_date'] = pd.to_datetime(pregnancy_only_df['pregnancy_expected_due_date'])          \n",
    "pregnancy_only_df['pregnancy_visit_date_time_submitted'] = pd.to_datetime(pregnancy_only_df['pregnancy_visit_date_time_submitted'])                                                                  \n",
    "pregnancy_only_df['delivery_delivery_date_time_submitted'] = pd.to_datetime(pregnancy_only_df['delivery_delivery_date_time_submitted'])                                                                                                                          \n",
    "                                                                          \n",
    "                                                             \n",
    "                                                                          "
   ]
  },
  {
   "cell_type": "code",
   "execution_count": null,
   "metadata": {},
   "outputs": [],
   "source": [
    "\n"
   ]
  },
  {
   "cell_type": "code",
   "execution_count": null,
   "metadata": {},
   "outputs": [],
   "source": [
    "#add age_at_last_menstrual_period_date\n",
    "#def calculate_age_at_date(birth_date, menstrual_date):\n",
    "##    menstrual_date = pregnancy_only_df['pregnancy_last_menstrual_period_date']\n",
    "#    birth_date = pregnancy_only_df['date_of_birth']\n",
    "#    return menstrual_date.year - birth_date.year - ((menstrual_date.month, menstrual_date.day) < (birth_date.month, birth_date.day))\n",
    "\n",
    "#pregnancy_only_df['age'] = pregnancy_only_df[['date_of_birth', 'pregnancy_last_menstrual_period_date']].apply(calculate_age_at_date)"
   ]
  },
  {
   "cell_type": "code",
   "execution_count": null,
   "metadata": {},
   "outputs": [],
   "source": [
    "#data quality check\n",
    "pregnancy_only_df.groupby('sex').nunique()\n",
    "#pregnancy_only_df.groupby('person_id')['pregnancy_pregnancy_form_id'].nunique()"
   ]
  },
  {
   "cell_type": "code",
   "execution_count": null,
   "metadata": {},
   "outputs": [],
   "source": [
    "pregnancy_only_df.head()"
   ]
  },
  {
   "cell_type": "code",
   "execution_count": null,
   "metadata": {},
   "outputs": [],
   "source": [
    "#convert date strings to date objects\n",
    "pregnancy_df['pregnancy_last_menstrual_period_date'] = pd.to_datetime(pregnancy_df['pregnancy_last_menstrual_period_date'])\n",
    "pregnancy_df['pregnancy_date_time_submitted'] = pd.to_datetime(pregnancy_df['pregnancy_date_time_submitted'])\n",
    "pregnancy_df['pregnancy_expected_due_date'] = pd.to_datetime(pregnancy_df['pregnancy_expected_due_date'])          \n",
    "                                                                          \n",
    "     "
   ]
  },
  {
   "cell_type": "code",
   "execution_count": null,
   "metadata": {},
   "outputs": [],
   "source": [
    "\n",
    "#pregnancy_df['pregnancy_date_time_submitted'] = [d.date() for d in pregnancy_df['pregnancy_date_time_submitted']]\n",
    "\n",
    "#pregnancy_df['pregnancy_date_time_submitted'] = pd.to_datetime(pregnancy_df['pregnancy_date_time_submitted'])"
   ]
  },
  {
   "cell_type": "code",
   "execution_count": null,
   "metadata": {},
   "outputs": [],
   "source": [
    "pregnancy_df['pregnancy_date_time_submitted']"
   ]
  },
  {
   "cell_type": "code",
   "execution_count": null,
   "metadata": {
    "scrolled": false
   },
   "outputs": [],
   "source": [
    "#pregnancy_df['days_pregnant'] = \n",
    "#pd.to_datetime(pregnancy_df['pregnancy_date_time_submitted']) - pd.to_datetime(pregnancy_df['pregnancy_last_menstrual_period_date'])\n",
    "pregnancy_df['days_pregnant'] = pd.to_datetime(pregnancy_df['pregnancy_expected_due_date']) - pd.to_datetime(pregnancy_df['pregnancy_last_menstrual_period_date'])\n",
    "\n",
    "#print(pregnancy_df['pregnancy_date_time_submitted'])\n",
    "#print(pregnancy_df['pregnancy_last_menstrual_period_date'])\n"
   ]
  },
  {
   "cell_type": "code",
   "execution_count": null,
   "metadata": {},
   "outputs": [],
   "source": []
  },
  {
   "cell_type": "markdown",
   "metadata": {},
   "source": [
    "# Pregnancy Registration to Delivery"
   ]
  },
  {
   "cell_type": "code",
   "execution_count": null,
   "metadata": {},
   "outputs": [],
   "source": [
    "pregnancy_delivery_df = pd.merge(delivery_df, pregnancy_df,  how='inner', left_on=['delivery_patient_id','delivery_hh_id'], right_on = ['pregnancy_patient_id','pregnancy_hh_id'])\n"
   ]
  },
  {
   "cell_type": "code",
   "execution_count": null,
   "metadata": {},
   "outputs": [],
   "source": [
    "pregnancy_delivery_df['delivery_patient_id'].nunique()"
   ]
  },
  {
   "cell_type": "code",
   "execution_count": null,
   "metadata": {},
   "outputs": [],
   "source": [
    "pregnancy_delivery_df['pregnancy_chw_id'].nunique()"
   ]
  },
  {
   "cell_type": "code",
   "execution_count": null,
   "metadata": {},
   "outputs": [],
   "source": [
    "pregnancy_delivery_df.drop(columns=['delivery_patient_id', 'delivery_hh_id'])"
   ]
  },
  {
   "cell_type": "code",
   "execution_count": null,
   "metadata": {},
   "outputs": [],
   "source": [
    "pregnancy_delivery_df['delivery_facility_delivery'].describe()"
   ]
  },
  {
   "cell_type": "code",
   "execution_count": null,
   "metadata": {},
   "outputs": [],
   "source": [
    "pregnancy_delivery_df.isnull().any()"
   ]
  },
  {
   "cell_type": "code",
   "execution_count": null,
   "metadata": {},
   "outputs": [],
   "source": [
    "len(pregnancy_delivery_df)"
   ]
  },
  {
   "cell_type": "code",
   "execution_count": null,
   "metadata": {},
   "outputs": [],
   "source": [
    "pregnancy_delivery_df['delivery_facility_delivery']"
   ]
  },
  {
   "cell_type": "code",
   "execution_count": null,
   "metadata": {},
   "outputs": [],
   "source": [
    "#Response Variable is pregnancy_delivery_df['delivery_facility_delivery']\n"
   ]
  },
  {
   "cell_type": "code",
   "execution_count": null,
   "metadata": {},
   "outputs": [],
   "source": [
    "pregnancy_delivery_df.columns"
   ]
  },
  {
   "cell_type": "code",
   "execution_count": null,
   "metadata": {},
   "outputs": [],
   "source": [
    "pregnancy_delivery_household_count = pd.merge(pregnancy_delivery_df, household_count, how='left', left_on=['delivery_hh_id'], right_on = ['hh_id'])\n",
    "\n",
    "\n",
    "\n",
    "\n",
    " \n",
    "pregnancy_delivery_household_count['household_count'] = pregnancy_delivery_household_count['person_id']\n",
    "pregnancy_delivery_household_count.drop(columns =[\"person_id\"], inplace = True) \n",
    "\n",
    "pregnancy_delivery_df = pregnancy_delivery_household_count\n"
   ]
  },
  {
   "cell_type": "code",
   "execution_count": null,
   "metadata": {},
   "outputs": [],
   "source": [
    "oops!"
   ]
  },
  {
   "cell_type": "raw",
   "metadata": {},
   "source": []
  },
  {
   "cell_type": "code",
   "execution_count": null,
   "metadata": {},
   "outputs": [],
   "source": [
    "pregnancy_delivery_df_subset = pregnancy_delivery_df[['risk_factor_1', 'risk_factor_2', 'risk_factor_3', 'risk_factor_4',\n",
    "       'risk_factor_5', 'risk_factor_6', 'danger_signs_1', 'danger_signs_2',\n",
    "       'danger_signs_3', 'danger_signs_4', 'danger_signs_5', 'danger_signs_6',\n",
    "       'danger_signs_7', 'danger_signs_8', 'danger_signs_9', 'household_count','delivery_facility_delivery']]"
   ]
  },
  {
   "cell_type": "code",
   "execution_count": null,
   "metadata": {},
   "outputs": [],
   "source": [
    "#Split the data into training and test sets\n",
    "\n",
    "#Separate the target variable from the rest of the data\n",
    "def split_target(data, target_name):\n",
    "    target = data[[target_name]]\n",
    "    data.drop(target_name, axis=1, inplace=True)\n",
    "    return (data, target)\n",
    "\n",
    "X, y = split_target(pregnancy_delivery_df_subset, 'delivery_facility_delivery') #y holds response variable, X holds our dataset\n",
    "\n",
    "#Split data\n",
    "from sklearn.model_selection import train_test_split\n",
    "\n",
    "X_train, X_test, y_train, y_test = train_test_split(\n",
    "    X, y, test_size=0.25, random_state=1234 #for reproducibility\n",
    ")"
   ]
  },
  {
   "cell_type": "code",
   "execution_count": null,
   "metadata": {},
   "outputs": [],
   "source": [
    "#Check the number of positive and negative responses in the response variable \n",
    "#- do we need to do any upsampling or downsampling of the data?\n",
    "print(y_train.groupby('delivery_facility_delivery').size())"
   ]
  },
  {
   "cell_type": "code",
   "execution_count": null,
   "metadata": {},
   "outputs": [],
   "source": [
    "X_train"
   ]
  },
  {
   "cell_type": "code",
   "execution_count": null,
   "metadata": {},
   "outputs": [],
   "source": [
    "#NumPy array conversion for scikitlearn\n",
    "\n",
    "#First, we save the final column names, which will assist us when we assess variable importance later on:\n",
    "\n",
    "X_train_cols = X_train.columns\n",
    "X_test_cols = X_test.columns\n",
    "\n",
    "#Now, we use the values attribute of the pandas DataFrames to access the underlying NumPy array for each DataFrame:\n",
    "X_train = X_train.values\n",
    "X_test = X_test.values"
   ]
  },
  {
   "cell_type": "code",
   "execution_count": null,
   "metadata": {},
   "outputs": [],
   "source": [
    "#Now, we use the values attribute of the pandas DataFrames to access the underlying NumPy array for each DataFrame:\n",
    "y_train = y_train.values\n",
    "y_test = y_test.values"
   ]
  },
  {
   "cell_type": "code",
   "execution_count": null,
   "metadata": {},
   "outputs": [],
   "source": [
    "#Logistic regression\n",
    "from sklearn.linear_model import LogisticRegression\n",
    "\n",
    "clfs = [LogisticRegression()]\n",
    "\n",
    "for clf in clfs:\n",
    "    clf.fit(X_train, y_train.ravel())\n",
    "    print(type(clf))\n",
    "    print('Training accuracy: ' + str(clf.score(X_train, y_train)))\n",
    " #   print('Validation accuracy: ' + str(clf.score(X_test, y_test)))\n",
    "    \n",
    "    coefs = {\n",
    "        'column': [X_train_cols[i] for i in range(len(X_train_cols))],\n",
    "        'coef': [clf.coef_[0,i] for i in range(len(X_train_cols))]\n",
    "    }\n",
    "    df_coefs = pd.DataFrame(coefs)\n",
    "    print(df_coefs.sort_values('coef', axis=0, ascending=False))\n",
    "    \n",
    "    #In general, features with coefficients that are farther from zero are the most positively/negatively correlated\n",
    "    #with the outcome. However, we did not scale the data prior to training, so it is possible that more \n",
    "    #important predictors that are not scaled appropriately will have lower coefficients."
   ]
  },
  {
   "cell_type": "code",
   "execution_count": null,
   "metadata": {},
   "outputs": [],
   "source": [
    "df_coefs"
   ]
  },
  {
   "cell_type": "code",
   "execution_count": null,
   "metadata": {},
   "outputs": [],
   "source": [
    "pregnancy_delivery_df_subset.describe()"
   ]
  },
  {
   "cell_type": "code",
   "execution_count": null,
   "metadata": {},
   "outputs": [],
   "source": [
    "#feature selection\n",
    "#number of people in the household\n",
    "pregnancy_delivery_df.head()"
   ]
  },
  {
   "cell_type": "code",
   "execution_count": null,
   "metadata": {},
   "outputs": [],
   "source": [
    "person_df.head()\n",
    "#join person and family_survey\n",
    "#person_family_df = pd.merge(person_df, family_survey_df, how='left', left_on=['hh_id'], right_on = ['hh_id']) "
   ]
  },
  {
   "cell_type": "code",
   "execution_count": null,
   "metadata": {},
   "outputs": [],
   "source": [
    "household_count = pd.DataFrame(person_df.groupby('hh_id')['person_id'].nunique())\n"
   ]
  },
  {
   "cell_type": "code",
   "execution_count": null,
   "metadata": {},
   "outputs": [],
   "source": [
    "\n",
    "pregnancy_delivery_household_count"
   ]
  },
  {
   "cell_type": "code",
   "execution_count": null,
   "metadata": {},
   "outputs": [],
   "source": []
  }
 ],
 "metadata": {
  "kernelspec": {
   "display_name": "Python 3",
   "language": "python",
   "name": "python3"
  },
  "language_info": {
   "codemirror_mode": {
    "name": "ipython",
    "version": 3
   },
   "file_extension": ".py",
   "mimetype": "text/x-python",
   "name": "python",
   "nbconvert_exporter": "python",
   "pygments_lexer": "ipython3",
   "version": "3.6.4"
  }
 },
 "nbformat": 4,
 "nbformat_minor": 2
}
